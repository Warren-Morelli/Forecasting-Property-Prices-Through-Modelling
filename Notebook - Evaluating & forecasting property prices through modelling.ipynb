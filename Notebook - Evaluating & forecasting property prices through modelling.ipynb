{
 "cells": [
  {
   "cell_type": "markdown",
   "metadata": {},
   "source": [
    "<p align=\"left\">\n",
    "  <img src=\"Images/image1.png\" alt=\"example\">\n",
    "</p>"
   ]
  },
  {
   "cell_type": "markdown",
   "metadata": {},
   "source": [
    "<font size=\"6\"><b>Evaluating & Forecasting Property Prices Through Modelling</b></font>\n"
   ]
  },
  {
   "cell_type": "markdown",
   "metadata": {},
   "source": [
    "<b>Author:</b> <font size=\"2\">Warren Morelli\n",
    "    <br>\n"
   ]
  },
  {
   "cell_type": "markdown",
   "metadata": {},
   "source": [
    "<p style=\"margin: 10px 0;\"></p>"
   ]
  },
  {
   "cell_type": "markdown",
   "metadata": {},
   "source": [
    "<font size=\"3\"><b>Overview:</b></font>\n"
   ]
  },
  {
   "cell_type": "markdown",
   "metadata": {},
   "source": [
    "<font size=\"3\">I am tasked to help a Real Estate Buyer's Agency in seeking to identify key property features, such as square footage and number of rooms, to identify undervalued properties that can be presented as investment opportunities for clients.</font>"
   ]
  },
  {
   "cell_type": "markdown",
   "metadata": {},
   "source": [
    "<p style=\"margin: 10px 0;\"></p>"
   ]
  },
  {
   "cell_type": "markdown",
   "metadata": {},
   "source": [
    "<font size=\"3\"><b>Data:</b></font>\n"
   ]
  },
  {
   "cell_type": "markdown",
   "metadata": {},
   "source": [
    "<font size=\"3\">The data utilized in this project was sourced from the kc_house_data CSV file. The data set is comprised of 21,597 rows and 21 columns, providing an ample amount of information for modeling purposes. This comprehensive data set is well-suited to support the modeling process and can be expected to yield reliable results.</font>"
   ]
  },
  {
   "cell_type": "code",
   "execution_count": 1,
   "metadata": {},
   "outputs": [
    {
     "data": {
      "text/html": [
       "<div>\n",
       "<style scoped>\n",
       "    .dataframe tbody tr th:only-of-type {\n",
       "        vertical-align: middle;\n",
       "    }\n",
       "\n",
       "    .dataframe tbody tr th {\n",
       "        vertical-align: top;\n",
       "    }\n",
       "\n",
       "    .dataframe thead th {\n",
       "        text-align: right;\n",
       "    }\n",
       "</style>\n",
       "<table border=\"1\" class=\"dataframe\">\n",
       "  <thead>\n",
       "    <tr style=\"text-align: right;\">\n",
       "      <th></th>\n",
       "      <th>id</th>\n",
       "      <th>date</th>\n",
       "      <th>price</th>\n",
       "      <th>bedrooms</th>\n",
       "      <th>bathrooms</th>\n",
       "      <th>sqft_living</th>\n",
       "      <th>sqft_lot</th>\n",
       "      <th>floors</th>\n",
       "      <th>waterfront</th>\n",
       "      <th>view</th>\n",
       "      <th>...</th>\n",
       "      <th>grade</th>\n",
       "      <th>sqft_above</th>\n",
       "      <th>sqft_basement</th>\n",
       "      <th>yr_built</th>\n",
       "      <th>yr_renovated</th>\n",
       "      <th>zipcode</th>\n",
       "      <th>lat</th>\n",
       "      <th>long</th>\n",
       "      <th>sqft_living15</th>\n",
       "      <th>sqft_lot15</th>\n",
       "    </tr>\n",
       "  </thead>\n",
       "  <tbody>\n",
       "    <tr>\n",
       "      <th>0</th>\n",
       "      <td>7129300520</td>\n",
       "      <td>10/13/2014</td>\n",
       "      <td>221900.0</td>\n",
       "      <td>3</td>\n",
       "      <td>1.00</td>\n",
       "      <td>1180</td>\n",
       "      <td>5650</td>\n",
       "      <td>1.0</td>\n",
       "      <td>NaN</td>\n",
       "      <td>0.0</td>\n",
       "      <td>...</td>\n",
       "      <td>7</td>\n",
       "      <td>1180</td>\n",
       "      <td>0.0</td>\n",
       "      <td>1955</td>\n",
       "      <td>0.0</td>\n",
       "      <td>98178</td>\n",
       "      <td>47.5112</td>\n",
       "      <td>-122.257</td>\n",
       "      <td>1340</td>\n",
       "      <td>5650</td>\n",
       "    </tr>\n",
       "    <tr>\n",
       "      <th>1</th>\n",
       "      <td>6414100192</td>\n",
       "      <td>12/9/2014</td>\n",
       "      <td>538000.0</td>\n",
       "      <td>3</td>\n",
       "      <td>2.25</td>\n",
       "      <td>2570</td>\n",
       "      <td>7242</td>\n",
       "      <td>2.0</td>\n",
       "      <td>0.0</td>\n",
       "      <td>0.0</td>\n",
       "      <td>...</td>\n",
       "      <td>7</td>\n",
       "      <td>2170</td>\n",
       "      <td>400.0</td>\n",
       "      <td>1951</td>\n",
       "      <td>1991.0</td>\n",
       "      <td>98125</td>\n",
       "      <td>47.7210</td>\n",
       "      <td>-122.319</td>\n",
       "      <td>1690</td>\n",
       "      <td>7639</td>\n",
       "    </tr>\n",
       "    <tr>\n",
       "      <th>2</th>\n",
       "      <td>5631500400</td>\n",
       "      <td>2/25/2015</td>\n",
       "      <td>180000.0</td>\n",
       "      <td>2</td>\n",
       "      <td>1.00</td>\n",
       "      <td>770</td>\n",
       "      <td>10000</td>\n",
       "      <td>1.0</td>\n",
       "      <td>0.0</td>\n",
       "      <td>0.0</td>\n",
       "      <td>...</td>\n",
       "      <td>6</td>\n",
       "      <td>770</td>\n",
       "      <td>0.0</td>\n",
       "      <td>1933</td>\n",
       "      <td>NaN</td>\n",
       "      <td>98028</td>\n",
       "      <td>47.7379</td>\n",
       "      <td>-122.233</td>\n",
       "      <td>2720</td>\n",
       "      <td>8062</td>\n",
       "    </tr>\n",
       "    <tr>\n",
       "      <th>3</th>\n",
       "      <td>2487200875</td>\n",
       "      <td>12/9/2014</td>\n",
       "      <td>604000.0</td>\n",
       "      <td>4</td>\n",
       "      <td>3.00</td>\n",
       "      <td>1960</td>\n",
       "      <td>5000</td>\n",
       "      <td>1.0</td>\n",
       "      <td>0.0</td>\n",
       "      <td>0.0</td>\n",
       "      <td>...</td>\n",
       "      <td>7</td>\n",
       "      <td>1050</td>\n",
       "      <td>910.0</td>\n",
       "      <td>1965</td>\n",
       "      <td>0.0</td>\n",
       "      <td>98136</td>\n",
       "      <td>47.5208</td>\n",
       "      <td>-122.393</td>\n",
       "      <td>1360</td>\n",
       "      <td>5000</td>\n",
       "    </tr>\n",
       "    <tr>\n",
       "      <th>4</th>\n",
       "      <td>1954400510</td>\n",
       "      <td>2/18/2015</td>\n",
       "      <td>510000.0</td>\n",
       "      <td>3</td>\n",
       "      <td>2.00</td>\n",
       "      <td>1680</td>\n",
       "      <td>8080</td>\n",
       "      <td>1.0</td>\n",
       "      <td>0.0</td>\n",
       "      <td>0.0</td>\n",
       "      <td>...</td>\n",
       "      <td>8</td>\n",
       "      <td>1680</td>\n",
       "      <td>0.0</td>\n",
       "      <td>1987</td>\n",
       "      <td>0.0</td>\n",
       "      <td>98074</td>\n",
       "      <td>47.6168</td>\n",
       "      <td>-122.045</td>\n",
       "      <td>1800</td>\n",
       "      <td>7503</td>\n",
       "    </tr>\n",
       "  </tbody>\n",
       "</table>\n",
       "<p>5 rows × 21 columns</p>\n",
       "</div>"
      ],
      "text/plain": [
       "           id        date     price  bedrooms  bathrooms  sqft_living  \\\n",
       "0  7129300520  10/13/2014  221900.0         3       1.00         1180   \n",
       "1  6414100192   12/9/2014  538000.0         3       2.25         2570   \n",
       "2  5631500400   2/25/2015  180000.0         2       1.00          770   \n",
       "3  2487200875   12/9/2014  604000.0         4       3.00         1960   \n",
       "4  1954400510   2/18/2015  510000.0         3       2.00         1680   \n",
       "\n",
       "   sqft_lot  floors  waterfront  view  ...  grade  sqft_above  sqft_basement  \\\n",
       "0      5650     1.0         NaN   0.0  ...      7        1180            0.0   \n",
       "1      7242     2.0         0.0   0.0  ...      7        2170          400.0   \n",
       "2     10000     1.0         0.0   0.0  ...      6         770            0.0   \n",
       "3      5000     1.0         0.0   0.0  ...      7        1050          910.0   \n",
       "4      8080     1.0         0.0   0.0  ...      8        1680            0.0   \n",
       "\n",
       "  yr_built  yr_renovated  zipcode      lat     long  sqft_living15  sqft_lot15  \n",
       "0     1955           0.0    98178  47.5112 -122.257           1340        5650  \n",
       "1     1951        1991.0    98125  47.7210 -122.319           1690        7639  \n",
       "2     1933           NaN    98028  47.7379 -122.233           2720        8062  \n",
       "3     1965           0.0    98136  47.5208 -122.393           1360        5000  \n",
       "4     1987           0.0    98074  47.6168 -122.045           1800        7503  \n",
       "\n",
       "[5 rows x 21 columns]"
      ]
     },
     "execution_count": 1,
     "metadata": {},
     "output_type": "execute_result"
    }
   ],
   "source": [
    "import pandas as pd\n",
    "import numpy as np\n",
    "data = pd.read_csv(\"data/kc_house_data.csv\")\n",
    "df = pd.read_csv(\"data/kc_house_data.csv\")\n",
    "data.head()"
   ]
  },
  {
   "cell_type": "markdown",
   "metadata": {},
   "source": [
    "<p style=\"margin: 10px 0;\"></p>"
   ]
  },
  {
   "cell_type": "markdown",
   "metadata": {},
   "source": [
    "<font msize=\"3\"><b>Inspect data:</b></font>"
   ]
  },
  {
   "cell_type": "markdown",
   "metadata": {},
   "source": [
    "<font size=\"3\">Upon conducting an initial review of the data, it was observed that there were a limited number of missing values present. Additionally, there were several instances where the data types differed, requiring appropriate addressing to ensure a cohesive and accurate analysis. These findings emphasize the importance of thorough data inspection and proper data preparation, which are critical steps in the modeling process.</font>"
   ]
  },
  {
   "cell_type": "code",
   "execution_count": 2,
   "metadata": {},
   "outputs": [
    {
     "name": "stdout",
     "output_type": "stream",
     "text": [
      "<class 'pandas.core.frame.DataFrame'>\n",
      "RangeIndex: 21597 entries, 0 to 21596\n",
      "Data columns (total 21 columns):\n",
      " #   Column         Non-Null Count  Dtype  \n",
      "---  ------         --------------  -----  \n",
      " 0   id             21597 non-null  int64  \n",
      " 1   date           21597 non-null  object \n",
      " 2   price          21597 non-null  float64\n",
      " 3   bedrooms       21597 non-null  int64  \n",
      " 4   bathrooms      21597 non-null  float64\n",
      " 5   sqft_living    21597 non-null  int64  \n",
      " 6   sqft_lot       21597 non-null  int64  \n",
      " 7   floors         21597 non-null  float64\n",
      " 8   waterfront     19221 non-null  float64\n",
      " 9   view           21534 non-null  float64\n",
      " 10  condition      21597 non-null  int64  \n",
      " 11  grade          21597 non-null  int64  \n",
      " 12  sqft_above     21597 non-null  int64  \n",
      " 13  sqft_basement  21597 non-null  object \n",
      " 14  yr_built       21597 non-null  int64  \n",
      " 15  yr_renovated   17755 non-null  float64\n",
      " 16  zipcode        21597 non-null  int64  \n",
      " 17  lat            21597 non-null  float64\n",
      " 18  long           21597 non-null  float64\n",
      " 19  sqft_living15  21597 non-null  int64  \n",
      " 20  sqft_lot15     21597 non-null  int64  \n",
      "dtypes: float64(8), int64(11), object(2)\n",
      "memory usage: 3.5+ MB\n"
     ]
    }
   ],
   "source": [
    "data.info()"
   ]
  },
  {
   "cell_type": "markdown",
   "metadata": {},
   "source": [
    "<p style=\"margin: 10px 0;\"></p>"
   ]
  },
  {
   "cell_type": "markdown",
   "metadata": {},
   "source": [
    "<font msize=\"3\"><b>Clean Data:</b></font>"
   ]
  },
  {
   "cell_type": "markdown",
   "metadata": {},
   "source": [
    "<font size=\"3\">To prepare the data for modeling, I first assessed and eliminated null values deemed to have no impact on the price of real estate. I then dropped all remaining null values, as they represented a minor portion of the total data. To ensure a seamless modeling process, I converted the data to integer format, standardizing it and avoiding potential modeling issues. These actions guarantee the quality of the data used and the accuracy of the modeling results. </font>"
   ]
  },
  {
   "cell_type": "code",
   "execution_count": 3,
   "metadata": {},
   "outputs": [],
   "source": [
    "#Drop the values I don't want\n",
    "data.drop('date', inplace=True, axis=1)\n",
    "data.drop('zipcode', inplace=True, axis=1)\n",
    "data.drop('lat', inplace=True, axis=1)\n",
    "data.drop('id', inplace=True, axis=1)\n",
    "data.drop('long', inplace=True, axis=1)\n",
    "data.drop('yr_renovated', inplace=True, axis=1)\n",
    "data.drop('sqft_basement', inplace=True, axis=1)\n",
    "data.drop('sqft_living15', inplace=True, axis=1)\n",
    "data.drop('sqft_lot15', inplace=True, axis=1)"
   ]
  },
  {
   "cell_type": "code",
   "execution_count": 4,
   "metadata": {},
   "outputs": [],
   "source": [
    "#Drop all Null \n",
    "data = data.dropna()"
   ]
  },
  {
   "cell_type": "code",
   "execution_count": 5,
   "metadata": {},
   "outputs": [],
   "source": [
    "#Change data to int to avoid later issues \n",
    "data['floors'] = data['floors'].astype(int)\n",
    "data['bathrooms'] = data['bathrooms'].astype(int)\n",
    "data['waterfront'] = data['waterfront'].astype(int)\n",
    "data['view'] = data['view'].astype(int)"
   ]
  },
  {
   "cell_type": "markdown",
   "metadata": {},
   "source": [
    "<p style=\"margin: 10px 0;\"></p>"
   ]
  },
  {
   "cell_type": "markdown",
   "metadata": {},
   "source": [
    "<font msize=\"3\"><b>Check for outliers:</b></font>"
   ]
  },
  {
   "cell_type": "markdown",
   "metadata": {},
   "source": [
    "<font size=\"3\">I conducted a thorough analysis of the data for outliers that could pose challenges during modeling. In doing so, I discovered extreme outliers in the Bedrooms and Square Foot Lot variables, which I determined would be best to remove to maintain the quality of the data and achieve accurate modeling results. </font>"
   ]
  },
  {
   "cell_type": "code",
   "execution_count": 6,
   "metadata": {},
   "outputs": [
    {
     "data": {
      "text/html": [
       "<div>\n",
       "<style scoped>\n",
       "    .dataframe tbody tr th:only-of-type {\n",
       "        vertical-align: middle;\n",
       "    }\n",
       "\n",
       "    .dataframe tbody tr th {\n",
       "        vertical-align: top;\n",
       "    }\n",
       "\n",
       "    .dataframe thead th {\n",
       "        text-align: right;\n",
       "    }\n",
       "</style>\n",
       "<table border=\"1\" class=\"dataframe\">\n",
       "  <thead>\n",
       "    <tr style=\"text-align: right;\">\n",
       "      <th></th>\n",
       "      <th>price</th>\n",
       "      <th>bedrooms</th>\n",
       "      <th>bathrooms</th>\n",
       "      <th>sqft_living</th>\n",
       "      <th>sqft_lot</th>\n",
       "      <th>floors</th>\n",
       "      <th>waterfront</th>\n",
       "      <th>view</th>\n",
       "      <th>condition</th>\n",
       "      <th>grade</th>\n",
       "      <th>sqft_above</th>\n",
       "      <th>yr_built</th>\n",
       "    </tr>\n",
       "  </thead>\n",
       "  <tbody>\n",
       "    <tr>\n",
       "      <th>count</th>\n",
       "      <td>1.916400e+04</td>\n",
       "      <td>19164.000000</td>\n",
       "      <td>19164.000000</td>\n",
       "      <td>19164.000000</td>\n",
       "      <td>1.916400e+04</td>\n",
       "      <td>19164.000000</td>\n",
       "      <td>19164.000000</td>\n",
       "      <td>19164.000000</td>\n",
       "      <td>19164.000000</td>\n",
       "      <td>19164.000000</td>\n",
       "      <td>19164.000000</td>\n",
       "      <td>19164.000000</td>\n",
       "    </tr>\n",
       "    <tr>\n",
       "      <th>mean</th>\n",
       "      <td>5.414490e+05</td>\n",
       "      <td>3.374452</td>\n",
       "      <td>1.750887</td>\n",
       "      <td>2082.038301</td>\n",
       "      <td>1.506174e+04</td>\n",
       "      <td>1.447558</td>\n",
       "      <td>0.007566</td>\n",
       "      <td>0.231058</td>\n",
       "      <td>3.409987</td>\n",
       "      <td>7.660718</td>\n",
       "      <td>1791.425433</td>\n",
       "      <td>1971.039553</td>\n",
       "    </tr>\n",
       "    <tr>\n",
       "      <th>std</th>\n",
       "      <td>3.709009e+05</td>\n",
       "      <td>0.928676</td>\n",
       "      <td>0.734304</td>\n",
       "      <td>921.918226</td>\n",
       "      <td>4.077215e+04</td>\n",
       "      <td>0.552154</td>\n",
       "      <td>0.086657</td>\n",
       "      <td>0.763368</td>\n",
       "      <td>0.650456</td>\n",
       "      <td>1.175601</td>\n",
       "      <td>831.776073</td>\n",
       "      <td>29.388020</td>\n",
       "    </tr>\n",
       "    <tr>\n",
       "      <th>min</th>\n",
       "      <td>7.800000e+04</td>\n",
       "      <td>1.000000</td>\n",
       "      <td>0.000000</td>\n",
       "      <td>370.000000</td>\n",
       "      <td>5.200000e+02</td>\n",
       "      <td>1.000000</td>\n",
       "      <td>0.000000</td>\n",
       "      <td>0.000000</td>\n",
       "      <td>1.000000</td>\n",
       "      <td>3.000000</td>\n",
       "      <td>370.000000</td>\n",
       "      <td>1900.000000</td>\n",
       "    </tr>\n",
       "    <tr>\n",
       "      <th>25%</th>\n",
       "      <td>3.220000e+05</td>\n",
       "      <td>3.000000</td>\n",
       "      <td>1.000000</td>\n",
       "      <td>1430.000000</td>\n",
       "      <td>5.040000e+03</td>\n",
       "      <td>1.000000</td>\n",
       "      <td>0.000000</td>\n",
       "      <td>0.000000</td>\n",
       "      <td>3.000000</td>\n",
       "      <td>7.000000</td>\n",
       "      <td>1200.000000</td>\n",
       "      <td>1951.000000</td>\n",
       "    </tr>\n",
       "    <tr>\n",
       "      <th>50%</th>\n",
       "      <td>4.500000e+05</td>\n",
       "      <td>3.000000</td>\n",
       "      <td>2.000000</td>\n",
       "      <td>1920.000000</td>\n",
       "      <td>7.620000e+03</td>\n",
       "      <td>1.000000</td>\n",
       "      <td>0.000000</td>\n",
       "      <td>0.000000</td>\n",
       "      <td>3.000000</td>\n",
       "      <td>7.000000</td>\n",
       "      <td>1560.000000</td>\n",
       "      <td>1975.000000</td>\n",
       "    </tr>\n",
       "    <tr>\n",
       "      <th>75%</th>\n",
       "      <td>6.439625e+05</td>\n",
       "      <td>4.000000</td>\n",
       "      <td>2.000000</td>\n",
       "      <td>2550.000000</td>\n",
       "      <td>1.072000e+04</td>\n",
       "      <td>2.000000</td>\n",
       "      <td>0.000000</td>\n",
       "      <td>0.000000</td>\n",
       "      <td>4.000000</td>\n",
       "      <td>8.000000</td>\n",
       "      <td>2217.750000</td>\n",
       "      <td>1997.000000</td>\n",
       "    </tr>\n",
       "    <tr>\n",
       "      <th>max</th>\n",
       "      <td>7.700000e+06</td>\n",
       "      <td>33.000000</td>\n",
       "      <td>8.000000</td>\n",
       "      <td>13540.000000</td>\n",
       "      <td>1.651359e+06</td>\n",
       "      <td>3.000000</td>\n",
       "      <td>1.000000</td>\n",
       "      <td>4.000000</td>\n",
       "      <td>5.000000</td>\n",
       "      <td>13.000000</td>\n",
       "      <td>9410.000000</td>\n",
       "      <td>2015.000000</td>\n",
       "    </tr>\n",
       "  </tbody>\n",
       "</table>\n",
       "</div>"
      ],
      "text/plain": [
       "              price      bedrooms     bathrooms   sqft_living      sqft_lot  \\\n",
       "count  1.916400e+04  19164.000000  19164.000000  19164.000000  1.916400e+04   \n",
       "mean   5.414490e+05      3.374452      1.750887   2082.038301  1.506174e+04   \n",
       "std    3.709009e+05      0.928676      0.734304    921.918226  4.077215e+04   \n",
       "min    7.800000e+04      1.000000      0.000000    370.000000  5.200000e+02   \n",
       "25%    3.220000e+05      3.000000      1.000000   1430.000000  5.040000e+03   \n",
       "50%    4.500000e+05      3.000000      2.000000   1920.000000  7.620000e+03   \n",
       "75%    6.439625e+05      4.000000      2.000000   2550.000000  1.072000e+04   \n",
       "max    7.700000e+06     33.000000      8.000000  13540.000000  1.651359e+06   \n",
       "\n",
       "             floors    waterfront          view     condition         grade  \\\n",
       "count  19164.000000  19164.000000  19164.000000  19164.000000  19164.000000   \n",
       "mean       1.447558      0.007566      0.231058      3.409987      7.660718   \n",
       "std        0.552154      0.086657      0.763368      0.650456      1.175601   \n",
       "min        1.000000      0.000000      0.000000      1.000000      3.000000   \n",
       "25%        1.000000      0.000000      0.000000      3.000000      7.000000   \n",
       "50%        1.000000      0.000000      0.000000      3.000000      7.000000   \n",
       "75%        2.000000      0.000000      0.000000      4.000000      8.000000   \n",
       "max        3.000000      1.000000      4.000000      5.000000     13.000000   \n",
       "\n",
       "         sqft_above      yr_built  \n",
       "count  19164.000000  19164.000000  \n",
       "mean    1791.425433   1971.039553  \n",
       "std      831.776073     29.388020  \n",
       "min      370.000000   1900.000000  \n",
       "25%     1200.000000   1951.000000  \n",
       "50%     1560.000000   1975.000000  \n",
       "75%     2217.750000   1997.000000  \n",
       "max     9410.000000   2015.000000  "
      ]
     },
     "execution_count": 6,
     "metadata": {},
     "output_type": "execute_result"
    }
   ],
   "source": [
    "data.describe()"
   ]
  },
  {
   "cell_type": "code",
   "execution_count": 7,
   "metadata": {},
   "outputs": [],
   "source": [
    "#Bedroom looks strange. Check for outliers.\n",
    "data['bedrooms'].unique()\n",
    "\n",
    "#locate outlier\n",
    "data.loc[data['bedrooms'] > 11]\n",
    "\n",
    "#Delete Bedroom outlier\n",
    "data = data.drop([15856])"
   ]
  },
  {
   "cell_type": "code",
   "execution_count": 8,
   "metadata": {},
   "outputs": [],
   "source": [
    "#sqft_lot has 2 large outlier as well. Drop them.\n",
    "top_2 = data['sqft_lot'].nlargest(8)\n",
    "data = data[~data.isin(top_2)].dropna()"
   ]
  },
  {
   "cell_type": "markdown",
   "metadata": {},
   "source": [
    "<p style=\"margin: 10px 0;\"></p>"
   ]
  },
  {
   "cell_type": "markdown",
   "metadata": {},
   "source": [
    "<font msize=\"3\"><b>Convert variables</b></font>"
   ]
  },
  {
   "cell_type": "markdown",
   "metadata": {},
   "source": [
    "<font size=\"3\">The data field for \"Year Built\" was modified to \"Years Old\" for improved analysis: </font>"
   ]
  },
  {
   "cell_type": "code",
   "execution_count": 9,
   "metadata": {},
   "outputs": [],
   "source": [
    "#change 'Year built' to 'Years old' \n",
    "data['yrs_old'] = data['yr_built'].apply(lambda x: 2016 - x)\n",
    "data.drop('yr_built', inplace=True, axis=1)"
   ]
  },
  {
   "cell_type": "markdown",
   "metadata": {},
   "source": [
    "<p style=\"margin: 10px 0;\"></p>"
   ]
  },
  {
   "cell_type": "markdown",
   "metadata": {},
   "source": [
    "<font msize=\"3\"><b>Multicollinearity</b></font>"
   ]
  },
  {
   "cell_type": "markdown",
   "metadata": {},
   "source": [
    "<font size=\"3\">I searched for multicollinearity that could potentially compromise the accuracy of my Ordinary Least Squares (OLS) modeling results. I made sure to strike a balance between addressing the issue and preserving a sufficient sample size, as the removal of too much data could negatively impact the predictive power of my model.</font>"
   ]
  },
  {
   "cell_type": "code",
   "execution_count": 10,
   "metadata": {},
   "outputs": [],
   "source": [
    "data_mc = data.drop('price', axis=1)"
   ]
  },
  {
   "cell_type": "code",
   "execution_count": 11,
   "metadata": {
    "scrolled": false
   },
   "outputs": [
    {
     "data": {
      "text/html": [
       "<div>\n",
       "<style scoped>\n",
       "    .dataframe tbody tr th:only-of-type {\n",
       "        vertical-align: middle;\n",
       "    }\n",
       "\n",
       "    .dataframe tbody tr th {\n",
       "        vertical-align: top;\n",
       "    }\n",
       "\n",
       "    .dataframe thead th {\n",
       "        text-align: right;\n",
       "    }\n",
       "</style>\n",
       "<table border=\"1\" class=\"dataframe\">\n",
       "  <thead>\n",
       "    <tr style=\"text-align: right;\">\n",
       "      <th></th>\n",
       "      <th>feature</th>\n",
       "      <th>VIF</th>\n",
       "    </tr>\n",
       "  </thead>\n",
       "  <tbody>\n",
       "    <tr>\n",
       "      <th>0</th>\n",
       "      <td>bedrooms</td>\n",
       "      <td>22.291630</td>\n",
       "    </tr>\n",
       "    <tr>\n",
       "      <th>1</th>\n",
       "      <td>bathrooms</td>\n",
       "      <td>16.047928</td>\n",
       "    </tr>\n",
       "    <tr>\n",
       "      <th>2</th>\n",
       "      <td>sqft_living</td>\n",
       "      <td>43.349882</td>\n",
       "    </tr>\n",
       "    <tr>\n",
       "      <th>3</th>\n",
       "      <td>sqft_lot</td>\n",
       "      <td>1.261822</td>\n",
       "    </tr>\n",
       "    <tr>\n",
       "      <th>4</th>\n",
       "      <td>floors</td>\n",
       "      <td>15.195701</td>\n",
       "    </tr>\n",
       "    <tr>\n",
       "      <th>5</th>\n",
       "      <td>waterfront</td>\n",
       "      <td>1.211576</td>\n",
       "    </tr>\n",
       "    <tr>\n",
       "      <th>6</th>\n",
       "      <td>view</td>\n",
       "      <td>1.485939</td>\n",
       "    </tr>\n",
       "    <tr>\n",
       "      <th>7</th>\n",
       "      <td>condition</td>\n",
       "      <td>27.418292</td>\n",
       "    </tr>\n",
       "    <tr>\n",
       "      <th>8</th>\n",
       "      <td>grade</td>\n",
       "      <td>57.610471</td>\n",
       "    </tr>\n",
       "    <tr>\n",
       "      <th>9</th>\n",
       "      <td>sqft_above</td>\n",
       "      <td>33.864870</td>\n",
       "    </tr>\n",
       "    <tr>\n",
       "      <th>10</th>\n",
       "      <td>yrs_old</td>\n",
       "      <td>5.234657</td>\n",
       "    </tr>\n",
       "  </tbody>\n",
       "</table>\n",
       "</div>"
      ],
      "text/plain": [
       "        feature        VIF\n",
       "0      bedrooms  22.291630\n",
       "1     bathrooms  16.047928\n",
       "2   sqft_living  43.349882\n",
       "3      sqft_lot   1.261822\n",
       "4        floors  15.195701\n",
       "5    waterfront   1.211576\n",
       "6          view   1.485939\n",
       "7     condition  27.418292\n",
       "8         grade  57.610471\n",
       "9    sqft_above  33.864870\n",
       "10      yrs_old   5.234657"
      ]
     },
     "execution_count": 11,
     "metadata": {},
     "output_type": "execute_result"
    }
   ],
   "source": [
    "from statsmodels.stats.outliers_influence import variance_inflation_factor\n",
    "\n",
    "VIF = pd.DataFrame()\n",
    "VIF['feature'] = data_mc.columns\n",
    "VIF['VIF'] = [variance_inflation_factor(data_mc.values, i) for i in range(data_mc.shape[1])]\n",
    "\n",
    "VIF"
   ]
  },
  {
   "cell_type": "code",
   "execution_count": 12,
   "metadata": {},
   "outputs": [],
   "source": [
    "#drop the chosen predictors \n",
    "data.drop('grade', inplace=True, axis=1)\n",
    "data.drop('condition', inplace=True, axis=1)\n",
    "data.drop('view', inplace=True, axis=1)"
   ]
  },
  {
   "cell_type": "code",
   "execution_count": 13,
   "metadata": {
    "scrolled": true
   },
   "outputs": [
    {
     "data": {
      "text/html": [
       "<div>\n",
       "<style scoped>\n",
       "    .dataframe tbody tr th:only-of-type {\n",
       "        vertical-align: middle;\n",
       "    }\n",
       "\n",
       "    .dataframe tbody tr th {\n",
       "        vertical-align: top;\n",
       "    }\n",
       "\n",
       "    .dataframe thead th {\n",
       "        text-align: right;\n",
       "    }\n",
       "</style>\n",
       "<table border=\"1\" class=\"dataframe\">\n",
       "  <thead>\n",
       "    <tr style=\"text-align: right;\">\n",
       "      <th></th>\n",
       "      <th>price</th>\n",
       "      <th>bedrooms</th>\n",
       "      <th>bathrooms</th>\n",
       "      <th>sqft_living</th>\n",
       "      <th>sqft_lot</th>\n",
       "      <th>floors</th>\n",
       "      <th>waterfront</th>\n",
       "      <th>sqft_above</th>\n",
       "      <th>yrs_old</th>\n",
       "    </tr>\n",
       "  </thead>\n",
       "  <tbody>\n",
       "    <tr>\n",
       "      <th>1</th>\n",
       "      <td>538000.0</td>\n",
       "      <td>3</td>\n",
       "      <td>2</td>\n",
       "      <td>2570</td>\n",
       "      <td>7242.0</td>\n",
       "      <td>2</td>\n",
       "      <td>0</td>\n",
       "      <td>2170</td>\n",
       "      <td>65</td>\n",
       "    </tr>\n",
       "    <tr>\n",
       "      <th>2</th>\n",
       "      <td>180000.0</td>\n",
       "      <td>2</td>\n",
       "      <td>1</td>\n",
       "      <td>770</td>\n",
       "      <td>10000.0</td>\n",
       "      <td>1</td>\n",
       "      <td>0</td>\n",
       "      <td>770</td>\n",
       "      <td>83</td>\n",
       "    </tr>\n",
       "    <tr>\n",
       "      <th>3</th>\n",
       "      <td>604000.0</td>\n",
       "      <td>4</td>\n",
       "      <td>3</td>\n",
       "      <td>1960</td>\n",
       "      <td>5000.0</td>\n",
       "      <td>1</td>\n",
       "      <td>0</td>\n",
       "      <td>1050</td>\n",
       "      <td>51</td>\n",
       "    </tr>\n",
       "    <tr>\n",
       "      <th>4</th>\n",
       "      <td>510000.0</td>\n",
       "      <td>3</td>\n",
       "      <td>2</td>\n",
       "      <td>1680</td>\n",
       "      <td>8080.0</td>\n",
       "      <td>1</td>\n",
       "      <td>0</td>\n",
       "      <td>1680</td>\n",
       "      <td>29</td>\n",
       "    </tr>\n",
       "    <tr>\n",
       "      <th>5</th>\n",
       "      <td>1230000.0</td>\n",
       "      <td>4</td>\n",
       "      <td>4</td>\n",
       "      <td>5420</td>\n",
       "      <td>101930.0</td>\n",
       "      <td>1</td>\n",
       "      <td>0</td>\n",
       "      <td>3890</td>\n",
       "      <td>15</td>\n",
       "    </tr>\n",
       "  </tbody>\n",
       "</table>\n",
       "</div>"
      ],
      "text/plain": [
       "       price  bedrooms  bathrooms  sqft_living  sqft_lot  floors  waterfront  \\\n",
       "1   538000.0         3          2         2570    7242.0       2           0   \n",
       "2   180000.0         2          1          770   10000.0       1           0   \n",
       "3   604000.0         4          3         1960    5000.0       1           0   \n",
       "4   510000.0         3          2         1680    8080.0       1           0   \n",
       "5  1230000.0         4          4         5420  101930.0       1           0   \n",
       "\n",
       "   sqft_above  yrs_old  \n",
       "1        2170       65  \n",
       "2         770       83  \n",
       "3        1050       51  \n",
       "4        1680       29  \n",
       "5        3890       15  "
      ]
     },
     "execution_count": 13,
     "metadata": {},
     "output_type": "execute_result"
    }
   ],
   "source": [
    "data.head()"
   ]
  },
  {
   "cell_type": "markdown",
   "metadata": {},
   "source": [
    "<p style=\"margin: 10px 0;\"></p>"
   ]
  },
  {
   "cell_type": "markdown",
   "metadata": {},
   "source": [
    "<font msize=\"3\"><b>Dealing with Categorical values</b></font>"
   ]
  },
  {
   "cell_type": "markdown",
   "metadata": {},
   "source": [
    "<font size=\"3\">I divided the 'bedrooms' and 'bathrooms' variables into smaller sub-groups to mitigate the risk of a \"dummy variable trap,\" which can occur when there are too many categorical predictors. Additionally, I omitted the first category to eliminate any potential issues with multicollinearity.</font>"
   ]
  },
  {
   "cell_type": "code",
   "execution_count": 14,
   "metadata": {},
   "outputs": [],
   "source": [
    "#Change Bedroom into 3 sections. 1-3 bedrooms, 4-7bedrooms and 7+ bedrooms\n",
    "data['1-3_bedrooms'] = data['bedrooms'].apply(lambda x: True if x <= 3 else False)\n",
    "data['1-3_bedrooms'] = data['1-3_bedrooms'].astype(int)\n",
    "\n",
    "data['4-7_bedrooms'] = data['bedrooms'].apply(lambda x: True if x <= 6 and x > 3 else False)\n",
    "data['4-7_bedrooms'] = data['4-7_bedrooms'].astype(int)\n",
    "\n",
    "data['7+_bedrooms'] = data['bedrooms'].apply(lambda x: True if x >= 7 else False)\n",
    "data['7+_bedrooms'] = data['7+_bedrooms'].astype(int)\n",
    "\n",
    "#drop 1 to reduce multicollinarity\n",
    "data.drop('1-3_bedrooms', inplace=True, axis=1)\n",
    "data.drop('bedrooms', inplace=True, axis=1)"
   ]
  },
  {
   "cell_type": "code",
   "execution_count": 15,
   "metadata": {},
   "outputs": [],
   "source": [
    "#Change bathrooms into 2 sections. 1-3 bathrooms and 3+ bathrooms \n",
    "data['1-3_bathrooms'] = data['bathrooms'].apply(lambda x: True if x <= 3 else False)\n",
    "data['1-3_bathrooms'] = data['1-3_bathrooms'].astype(int)\n",
    "\n",
    "data['4+_bathrooms'] = data['bathrooms'].apply(lambda x: True if x >= 4 else False)\n",
    "data['4+_bathrooms'] = data['4+_bathrooms'].astype(int)\n",
    "\n",
    "#drop 1 to reduce multicollinarity\n",
    "data.drop('1-3_bathrooms', inplace=True, axis=1)\n",
    "data.drop('bathrooms', inplace=True, axis=1)"
   ]
  },
  {
   "cell_type": "code",
   "execution_count": 16,
   "metadata": {},
   "outputs": [
    {
     "data": {
      "text/html": [
       "<div>\n",
       "<style scoped>\n",
       "    .dataframe tbody tr th:only-of-type {\n",
       "        vertical-align: middle;\n",
       "    }\n",
       "\n",
       "    .dataframe tbody tr th {\n",
       "        vertical-align: top;\n",
       "    }\n",
       "\n",
       "    .dataframe thead th {\n",
       "        text-align: right;\n",
       "    }\n",
       "</style>\n",
       "<table border=\"1\" class=\"dataframe\">\n",
       "  <thead>\n",
       "    <tr style=\"text-align: right;\">\n",
       "      <th></th>\n",
       "      <th>price</th>\n",
       "      <th>sqft_living</th>\n",
       "      <th>sqft_lot</th>\n",
       "      <th>floors</th>\n",
       "      <th>waterfront</th>\n",
       "      <th>sqft_above</th>\n",
       "      <th>yrs_old</th>\n",
       "      <th>4-7_bedrooms</th>\n",
       "      <th>7+_bedrooms</th>\n",
       "      <th>4+_bathrooms</th>\n",
       "    </tr>\n",
       "  </thead>\n",
       "  <tbody>\n",
       "    <tr>\n",
       "      <th>1</th>\n",
       "      <td>538000.0</td>\n",
       "      <td>2570</td>\n",
       "      <td>7242.0</td>\n",
       "      <td>2</td>\n",
       "      <td>0</td>\n",
       "      <td>2170</td>\n",
       "      <td>65</td>\n",
       "      <td>0</td>\n",
       "      <td>0</td>\n",
       "      <td>0</td>\n",
       "    </tr>\n",
       "    <tr>\n",
       "      <th>2</th>\n",
       "      <td>180000.0</td>\n",
       "      <td>770</td>\n",
       "      <td>10000.0</td>\n",
       "      <td>1</td>\n",
       "      <td>0</td>\n",
       "      <td>770</td>\n",
       "      <td>83</td>\n",
       "      <td>0</td>\n",
       "      <td>0</td>\n",
       "      <td>0</td>\n",
       "    </tr>\n",
       "    <tr>\n",
       "      <th>3</th>\n",
       "      <td>604000.0</td>\n",
       "      <td>1960</td>\n",
       "      <td>5000.0</td>\n",
       "      <td>1</td>\n",
       "      <td>0</td>\n",
       "      <td>1050</td>\n",
       "      <td>51</td>\n",
       "      <td>1</td>\n",
       "      <td>0</td>\n",
       "      <td>0</td>\n",
       "    </tr>\n",
       "    <tr>\n",
       "      <th>4</th>\n",
       "      <td>510000.0</td>\n",
       "      <td>1680</td>\n",
       "      <td>8080.0</td>\n",
       "      <td>1</td>\n",
       "      <td>0</td>\n",
       "      <td>1680</td>\n",
       "      <td>29</td>\n",
       "      <td>0</td>\n",
       "      <td>0</td>\n",
       "      <td>0</td>\n",
       "    </tr>\n",
       "    <tr>\n",
       "      <th>5</th>\n",
       "      <td>1230000.0</td>\n",
       "      <td>5420</td>\n",
       "      <td>101930.0</td>\n",
       "      <td>1</td>\n",
       "      <td>0</td>\n",
       "      <td>3890</td>\n",
       "      <td>15</td>\n",
       "      <td>1</td>\n",
       "      <td>0</td>\n",
       "      <td>1</td>\n",
       "    </tr>\n",
       "  </tbody>\n",
       "</table>\n",
       "</div>"
      ],
      "text/plain": [
       "       price  sqft_living  sqft_lot  floors  waterfront  sqft_above  yrs_old  \\\n",
       "1   538000.0         2570    7242.0       2           0        2170       65   \n",
       "2   180000.0          770   10000.0       1           0         770       83   \n",
       "3   604000.0         1960    5000.0       1           0        1050       51   \n",
       "4   510000.0         1680    8080.0       1           0        1680       29   \n",
       "5  1230000.0         5420  101930.0       1           0        3890       15   \n",
       "\n",
       "   4-7_bedrooms  7+_bedrooms  4+_bathrooms  \n",
       "1             0            0             0  \n",
       "2             0            0             0  \n",
       "3             1            0             0  \n",
       "4             0            0             0  \n",
       "5             1            0             1  "
      ]
     },
     "execution_count": 16,
     "metadata": {},
     "output_type": "execute_result"
    }
   ],
   "source": [
    "data.head()"
   ]
  },
  {
   "cell_type": "markdown",
   "metadata": {},
   "source": [
    "<p style=\"margin: 10px 0;\"></p>"
   ]
  },
  {
   "cell_type": "markdown",
   "metadata": {},
   "source": [
    "<font msize=\"3\"><b>One Hot Encode (OHE)</b></font>"
   ]
  },
  {
   "cell_type": "markdown",
   "metadata": {},
   "source": [
    "<font size=\"3\">I utilized One-Hot Encoding (OHE) to generate dummy variables from the remaining categorical predictors.</font>"
   ]
  },
  {
   "cell_type": "code",
   "execution_count": 17,
   "metadata": {},
   "outputs": [
    {
     "data": {
      "text/html": [
       "<div>\n",
       "<style scoped>\n",
       "    .dataframe tbody tr th:only-of-type {\n",
       "        vertical-align: middle;\n",
       "    }\n",
       "\n",
       "    .dataframe tbody tr th {\n",
       "        vertical-align: top;\n",
       "    }\n",
       "\n",
       "    .dataframe thead th {\n",
       "        text-align: right;\n",
       "    }\n",
       "</style>\n",
       "<table border=\"1\" class=\"dataframe\">\n",
       "  <thead>\n",
       "    <tr style=\"text-align: right;\">\n",
       "      <th></th>\n",
       "      <th>floors_2</th>\n",
       "      <th>floors_3</th>\n",
       "      <th>waterfront_1</th>\n",
       "    </tr>\n",
       "  </thead>\n",
       "  <tbody>\n",
       "    <tr>\n",
       "      <th>1</th>\n",
       "      <td>1</td>\n",
       "      <td>0</td>\n",
       "      <td>0</td>\n",
       "    </tr>\n",
       "    <tr>\n",
       "      <th>2</th>\n",
       "      <td>0</td>\n",
       "      <td>0</td>\n",
       "      <td>0</td>\n",
       "    </tr>\n",
       "    <tr>\n",
       "      <th>3</th>\n",
       "      <td>0</td>\n",
       "      <td>0</td>\n",
       "      <td>0</td>\n",
       "    </tr>\n",
       "    <tr>\n",
       "      <th>4</th>\n",
       "      <td>0</td>\n",
       "      <td>0</td>\n",
       "      <td>0</td>\n",
       "    </tr>\n",
       "    <tr>\n",
       "      <th>5</th>\n",
       "      <td>0</td>\n",
       "      <td>0</td>\n",
       "      <td>0</td>\n",
       "    </tr>\n",
       "    <tr>\n",
       "      <th>...</th>\n",
       "      <td>...</td>\n",
       "      <td>...</td>\n",
       "      <td>...</td>\n",
       "    </tr>\n",
       "    <tr>\n",
       "      <th>21591</th>\n",
       "      <td>1</td>\n",
       "      <td>0</td>\n",
       "      <td>0</td>\n",
       "    </tr>\n",
       "    <tr>\n",
       "      <th>21592</th>\n",
       "      <td>0</td>\n",
       "      <td>1</td>\n",
       "      <td>0</td>\n",
       "    </tr>\n",
       "    <tr>\n",
       "      <th>21593</th>\n",
       "      <td>1</td>\n",
       "      <td>0</td>\n",
       "      <td>0</td>\n",
       "    </tr>\n",
       "    <tr>\n",
       "      <th>21594</th>\n",
       "      <td>1</td>\n",
       "      <td>0</td>\n",
       "      <td>0</td>\n",
       "    </tr>\n",
       "    <tr>\n",
       "      <th>21596</th>\n",
       "      <td>1</td>\n",
       "      <td>0</td>\n",
       "      <td>0</td>\n",
       "    </tr>\n",
       "  </tbody>\n",
       "</table>\n",
       "<p>19155 rows × 3 columns</p>\n",
       "</div>"
      ],
      "text/plain": [
       "       floors_2  floors_3  waterfront_1\n",
       "1             1         0             0\n",
       "2             0         0             0\n",
       "3             0         0             0\n",
       "4             0         0             0\n",
       "5             0         0             0\n",
       "...         ...       ...           ...\n",
       "21591         1         0             0\n",
       "21592         0         1             0\n",
       "21593         1         0             0\n",
       "21594         1         0             0\n",
       "21596         1         0             0\n",
       "\n",
       "[19155 rows x 3 columns]"
      ]
     },
     "execution_count": 17,
     "metadata": {},
     "output_type": "execute_result"
    }
   ],
   "source": [
    "import matplotlib.pyplot as plt\n",
    "%matplotlib inline\n",
    "\n",
    "categoricals = ['floors', 'waterfront'] \n",
    "continuous = ['price', 'sqft_living', 'sqft_above',  'sqft_lot', 'yrs_old', '4-7_bedrooms', '7+_bedrooms', '4+_bathrooms']\n",
    "\n",
    "data_ohe = pd.get_dummies(data[categoricals], columns=['floors', 'waterfront'], drop_first=True)\n",
    "data_ohe"
   ]
  },
  {
   "cell_type": "markdown",
   "metadata": {},
   "source": [
    "<p style=\"margin: 10px 0;\"></p>"
   ]
  },
  {
   "cell_type": "markdown",
   "metadata": {},
   "source": [
    "<font msize=\"3\"><b>Join dummies and continuous data</b></font>"
   ]
  },
  {
   "cell_type": "code",
   "execution_count": 18,
   "metadata": {
    "scrolled": true
   },
   "outputs": [
    {
     "data": {
      "text/html": [
       "<div>\n",
       "<style scoped>\n",
       "    .dataframe tbody tr th:only-of-type {\n",
       "        vertical-align: middle;\n",
       "    }\n",
       "\n",
       "    .dataframe tbody tr th {\n",
       "        vertical-align: top;\n",
       "    }\n",
       "\n",
       "    .dataframe thead th {\n",
       "        text-align: right;\n",
       "    }\n",
       "</style>\n",
       "<table border=\"1\" class=\"dataframe\">\n",
       "  <thead>\n",
       "    <tr style=\"text-align: right;\">\n",
       "      <th></th>\n",
       "      <th>price</th>\n",
       "      <th>sqft_living</th>\n",
       "      <th>sqft_above</th>\n",
       "      <th>sqft_lot</th>\n",
       "      <th>yrs_old</th>\n",
       "      <th>4-7_bedrooms</th>\n",
       "      <th>7+_bedrooms</th>\n",
       "      <th>4+_bathrooms</th>\n",
       "      <th>floors_2</th>\n",
       "      <th>waterfront_1</th>\n",
       "    </tr>\n",
       "  </thead>\n",
       "  <tbody>\n",
       "    <tr>\n",
       "      <th>1</th>\n",
       "      <td>538000.0</td>\n",
       "      <td>2570</td>\n",
       "      <td>2170</td>\n",
       "      <td>7242.0</td>\n",
       "      <td>65</td>\n",
       "      <td>0</td>\n",
       "      <td>0</td>\n",
       "      <td>0</td>\n",
       "      <td>1</td>\n",
       "      <td>0</td>\n",
       "    </tr>\n",
       "    <tr>\n",
       "      <th>2</th>\n",
       "      <td>180000.0</td>\n",
       "      <td>770</td>\n",
       "      <td>770</td>\n",
       "      <td>10000.0</td>\n",
       "      <td>83</td>\n",
       "      <td>0</td>\n",
       "      <td>0</td>\n",
       "      <td>0</td>\n",
       "      <td>0</td>\n",
       "      <td>0</td>\n",
       "    </tr>\n",
       "    <tr>\n",
       "      <th>3</th>\n",
       "      <td>604000.0</td>\n",
       "      <td>1960</td>\n",
       "      <td>1050</td>\n",
       "      <td>5000.0</td>\n",
       "      <td>51</td>\n",
       "      <td>1</td>\n",
       "      <td>0</td>\n",
       "      <td>0</td>\n",
       "      <td>0</td>\n",
       "      <td>0</td>\n",
       "    </tr>\n",
       "    <tr>\n",
       "      <th>4</th>\n",
       "      <td>510000.0</td>\n",
       "      <td>1680</td>\n",
       "      <td>1680</td>\n",
       "      <td>8080.0</td>\n",
       "      <td>29</td>\n",
       "      <td>0</td>\n",
       "      <td>0</td>\n",
       "      <td>0</td>\n",
       "      <td>0</td>\n",
       "      <td>0</td>\n",
       "    </tr>\n",
       "    <tr>\n",
       "      <th>5</th>\n",
       "      <td>1230000.0</td>\n",
       "      <td>5420</td>\n",
       "      <td>3890</td>\n",
       "      <td>101930.0</td>\n",
       "      <td>15</td>\n",
       "      <td>1</td>\n",
       "      <td>0</td>\n",
       "      <td>1</td>\n",
       "      <td>0</td>\n",
       "      <td>0</td>\n",
       "    </tr>\n",
       "  </tbody>\n",
       "</table>\n",
       "</div>"
      ],
      "text/plain": [
       "       price  sqft_living  sqft_above  sqft_lot  yrs_old  4-7_bedrooms  \\\n",
       "1   538000.0         2570        2170    7242.0       65             0   \n",
       "2   180000.0          770         770   10000.0       83             0   \n",
       "3   604000.0         1960        1050    5000.0       51             1   \n",
       "4   510000.0         1680        1680    8080.0       29             0   \n",
       "5  1230000.0         5420        3890  101930.0       15             1   \n",
       "\n",
       "   7+_bedrooms  4+_bathrooms  floors_2  waterfront_1  \n",
       "1            0             0         1             0  \n",
       "2            0             0         0             0  \n",
       "3            0             0         0             0  \n",
       "4            0             0         0             0  \n",
       "5            0             1         0             0  "
      ]
     },
     "execution_count": 18,
     "metadata": {},
     "output_type": "execute_result"
    }
   ],
   "source": [
    "continuous = data[continuous]\n",
    "preprocessed = pd.concat([continuous, data_ohe], axis=1)\n",
    "\n",
    "#reduce the number of dummies a bit further\n",
    "preprocessed.drop('floors_3', inplace=True, axis=1)\n",
    "\n",
    "preprocessed.head()"
   ]
  },
  {
   "cell_type": "markdown",
   "metadata": {},
   "source": [
    "<p style=\"margin: 10px 0;\"></p>"
   ]
  },
  {
   "cell_type": "markdown",
   "metadata": {},
   "source": [
    "<font msize=\"3\"><b>Stepwise Selection</b></font>"
   ]
  },
  {
   "cell_type": "markdown",
   "metadata": {},
   "source": [
    "<font size=\"3\">I used stepwise selection to select best fits Vaiables with p-values. I realised this actually selected all of the values, so it was just an indicator that I chose suitable variables from the beginning</font>"
   ]
  },
  {
   "cell_type": "code",
   "execution_count": 19,
   "metadata": {},
   "outputs": [],
   "source": [
    "#create fuction to use stepwise selection to select best fits with p-values\n",
    "\n",
    "import statsmodels.api as sm\n",
    "\n",
    "def stepwise_selection(X, y, \n",
    "                       initial_list=[], \n",
    "                       threshold_in=0.01, \n",
    "                       threshold_out = 0.05, \n",
    "                       verbose=True):\n",
    "    \"\"\" Perform a forward-backward feature selection \n",
    "    based on p-value from statsmodels.api.OLS\n",
    "    Arguments:\n",
    "        X - pandas.DataFrame with candidate features\n",
    "        y - list-like with the target\n",
    "        initial_list - list of features to start with (column names of X)\n",
    "        threshold_in - include a feature if its p-value < threshold_in\n",
    "        threshold_out - exclude a feature if its p-value > threshold_out\n",
    "        verbose - whether to print the sequence of inclusions and exclusions\n",
    "    Returns: list of selected features \n",
    "    Always set threshold_in < threshold_out to avoid infinite looping.\n",
    "    See https://en.wikipedia.org/wiki/Stepwise_regression for the details\n",
    "    \"\"\"\n",
    "    included = list(initial_list)\n",
    "    while True:\n",
    "        changed=False\n",
    "        # forward step\n",
    "        excluded = list(set(X.columns)-set(included))\n",
    "        new_pval = pd.Series(index=excluded)\n",
    "        for new_column in excluded:\n",
    "            model = sm.OLS(y, sm.add_constant(pd.DataFrame(X[included+[new_column]]))).fit()\n",
    "            new_pval[new_column] = model.pvalues[new_column]\n",
    "        best_pval = new_pval.min()\n",
    "        if best_pval < threshold_in:\n",
    "            best_feature = new_pval.idxmin()\n",
    "            included.append(best_feature)\n",
    "            changed=True\n",
    "            if verbose:\n",
    "                print('Add  {:30} with p-value {:.6}'.format(best_feature, best_pval))\n",
    "\n",
    "        # backward step\n",
    "        model = sm.OLS(y, sm.add_constant(pd.DataFrame(X[included]))).fit()\n",
    "        # use all coefs except intercept\n",
    "        pvalues = model.pvalues.iloc[1:]\n",
    "        worst_pval = pvalues.max() # null if pvalues is empty\n",
    "        if worst_pval > threshold_out:\n",
    "            changed=True\n",
    "            worst_feature = pvalues.argmax()\n",
    "            included.remove(worst_feature)\n",
    "            if verbose:\n",
    "                print('Drop {:30} with p-value {:.6}'.format(worst_feature, worst_pval))\n",
    "        if not changed:\n",
    "            break\n",
    "    return included"
   ]
  },
  {
   "cell_type": "code",
   "execution_count": 20,
   "metadata": {},
   "outputs": [],
   "source": [
    "X = data['price'].astype(int)\n",
    "y = preprocessed\n",
    "\n",
    "#result = stepwise_selection(y, X, verbose=True)"
   ]
  },
  {
   "cell_type": "markdown",
   "metadata": {},
   "source": [
    "<p style=\"margin: 10px 0;\"></p>"
   ]
  },
  {
   "cell_type": "markdown",
   "metadata": {},
   "source": [
    "<font msize=\"3\"><b>Feature Ranking</b></font>"
   ]
  },
  {
   "cell_type": "markdown",
   "metadata": {},
   "source": [
    "<font size=\"3\">I wanted to use feature ranking to select the top 8 best fit variables. This issue was, feature ranking would select all of the categorical variables and wanted to drop continous variables. This could have been an issue when it came to predictive modelling so I decided to keep all of the variables. </font>"
   ]
  },
  {
   "cell_type": "code",
   "execution_count": 21,
   "metadata": {},
   "outputs": [],
   "source": [
    "preprocessed.drop('price', inplace=True, axis=1)"
   ]
  },
  {
   "cell_type": "code",
   "execution_count": 22,
   "metadata": {},
   "outputs": [],
   "source": [
    "#from sklearn.datasets import make_friedman1\n",
    "from sklearn.feature_selection import RFE\n",
    "from sklearn.linear_model import LinearRegression\n",
    "\n",
    "predictors = preprocessed\n",
    "\n",
    "linreg = LinearRegression()\n",
    "selector = RFE(linreg, n_features_to_select=9)\n",
    "selector = selector.fit(predictors, data['price'].values.ravel())"
   ]
  },
  {
   "cell_type": "code",
   "execution_count": 23,
   "metadata": {},
   "outputs": [
    {
     "data": {
      "text/plain": [
       "array([ True,  True,  True,  True,  True,  True,  True,  True,  True])"
      ]
     },
     "execution_count": 23,
     "metadata": {},
     "output_type": "execute_result"
    }
   ],
   "source": [
    "selector.support_ "
   ]
  },
  {
   "cell_type": "code",
   "execution_count": 24,
   "metadata": {},
   "outputs": [],
   "source": [
    "#turn this back into a dataframe\n",
    "\n",
    "# Get the indices of the selected features\n",
    "selected_indices = [i for i, x in enumerate(selector.support_) if x]\n",
    "\n",
    "# Get the names of the selected features\n",
    "selected_features = predictors.columns[selected_indices]\n",
    "\n",
    "# Create a new dataframe using only the selected features\n",
    "predictors = predictors[selected_features]"
   ]
  },
  {
   "cell_type": "code",
   "execution_count": 25,
   "metadata": {},
   "outputs": [
    {
     "data": {
      "text/html": [
       "<div>\n",
       "<style scoped>\n",
       "    .dataframe tbody tr th:only-of-type {\n",
       "        vertical-align: middle;\n",
       "    }\n",
       "\n",
       "    .dataframe tbody tr th {\n",
       "        vertical-align: top;\n",
       "    }\n",
       "\n",
       "    .dataframe thead th {\n",
       "        text-align: right;\n",
       "    }\n",
       "</style>\n",
       "<table border=\"1\" class=\"dataframe\">\n",
       "  <thead>\n",
       "    <tr style=\"text-align: right;\">\n",
       "      <th></th>\n",
       "      <th>sqft_living</th>\n",
       "      <th>sqft_above</th>\n",
       "      <th>sqft_lot</th>\n",
       "      <th>yrs_old</th>\n",
       "      <th>4-7_bedrooms</th>\n",
       "      <th>7+_bedrooms</th>\n",
       "      <th>4+_bathrooms</th>\n",
       "      <th>floors_2</th>\n",
       "      <th>waterfront_1</th>\n",
       "    </tr>\n",
       "  </thead>\n",
       "  <tbody>\n",
       "    <tr>\n",
       "      <th>1</th>\n",
       "      <td>2570</td>\n",
       "      <td>2170</td>\n",
       "      <td>7242.0</td>\n",
       "      <td>65</td>\n",
       "      <td>0</td>\n",
       "      <td>0</td>\n",
       "      <td>0</td>\n",
       "      <td>1</td>\n",
       "      <td>0</td>\n",
       "    </tr>\n",
       "    <tr>\n",
       "      <th>2</th>\n",
       "      <td>770</td>\n",
       "      <td>770</td>\n",
       "      <td>10000.0</td>\n",
       "      <td>83</td>\n",
       "      <td>0</td>\n",
       "      <td>0</td>\n",
       "      <td>0</td>\n",
       "      <td>0</td>\n",
       "      <td>0</td>\n",
       "    </tr>\n",
       "    <tr>\n",
       "      <th>3</th>\n",
       "      <td>1960</td>\n",
       "      <td>1050</td>\n",
       "      <td>5000.0</td>\n",
       "      <td>51</td>\n",
       "      <td>1</td>\n",
       "      <td>0</td>\n",
       "      <td>0</td>\n",
       "      <td>0</td>\n",
       "      <td>0</td>\n",
       "    </tr>\n",
       "    <tr>\n",
       "      <th>4</th>\n",
       "      <td>1680</td>\n",
       "      <td>1680</td>\n",
       "      <td>8080.0</td>\n",
       "      <td>29</td>\n",
       "      <td>0</td>\n",
       "      <td>0</td>\n",
       "      <td>0</td>\n",
       "      <td>0</td>\n",
       "      <td>0</td>\n",
       "    </tr>\n",
       "    <tr>\n",
       "      <th>5</th>\n",
       "      <td>5420</td>\n",
       "      <td>3890</td>\n",
       "      <td>101930.0</td>\n",
       "      <td>15</td>\n",
       "      <td>1</td>\n",
       "      <td>0</td>\n",
       "      <td>1</td>\n",
       "      <td>0</td>\n",
       "      <td>0</td>\n",
       "    </tr>\n",
       "  </tbody>\n",
       "</table>\n",
       "</div>"
      ],
      "text/plain": [
       "   sqft_living  sqft_above  sqft_lot  yrs_old  4-7_bedrooms  7+_bedrooms  \\\n",
       "1         2570        2170    7242.0       65             0            0   \n",
       "2          770         770   10000.0       83             0            0   \n",
       "3         1960        1050    5000.0       51             1            0   \n",
       "4         1680        1680    8080.0       29             0            0   \n",
       "5         5420        3890  101930.0       15             1            0   \n",
       "\n",
       "   4+_bathrooms  floors_2  waterfront_1  \n",
       "1             0         1             0  \n",
       "2             0         0             0  \n",
       "3             0         0             0  \n",
       "4             0         0             0  \n",
       "5             1         0             0  "
      ]
     },
     "execution_count": 25,
     "metadata": {},
     "output_type": "execute_result"
    }
   ],
   "source": [
    "predictors.head()"
   ]
  },
  {
   "cell_type": "markdown",
   "metadata": {},
   "source": [
    "<p style=\"margin: 10px 0;\"></p>"
   ]
  },
  {
   "cell_type": "markdown",
   "metadata": {},
   "source": [
    "<font msize=\"3\"><b>Split data into Traning & Testing perform Cross-Validation</b></font>"
   ]
  },
  {
   "cell_type": "markdown",
   "metadata": {},
   "source": [
    "<font size=\"3\">I split the data 70/30 into training and testing which allowed me to test the model to ensure it has the potential to make accurate predictions</font>"
   ]
  },
  {
   "cell_type": "code",
   "execution_count": 26,
   "metadata": {},
   "outputs": [],
   "source": [
    "from sklearn.model_selection import train_test_split\n",
    "\n",
    "X = predictors\n",
    "y = data['price']\n",
    "\n",
    "#split the data 70/30\n",
    "X_train, X_test, y_train, y_test = train_test_split(X, y, random_state=59, test_size=0.30)"
   ]
  },
  {
   "cell_type": "code",
   "execution_count": 27,
   "metadata": {},
   "outputs": [
    {
     "name": "stdout",
     "output_type": "stream",
     "text": [
      "13408 5747 13408 5747\n"
     ]
    }
   ],
   "source": [
    "#check lengths\n",
    "print(len(X_train), len(X_test), len(y_train), len(y_test))"
   ]
  },
  {
   "cell_type": "code",
   "execution_count": 28,
   "metadata": {},
   "outputs": [],
   "source": [
    "from sklearn.model_selection import cross_val_score\n",
    "from sklearn.model_selection import cross_validate"
   ]
  },
  {
   "cell_type": "code",
   "execution_count": 29,
   "metadata": {
    "scrolled": true
   },
   "outputs": [
    {
     "data": {
      "image/png": "[encoded data removed]",
      "text/plain": [
       "<Figure size 640x480 with 1 Axes>"
      ]
     },
     "metadata": {},
     "output_type": "display_data"
    }
   ],
   "source": [
    "#perform Cross Validation for better accuracy\n",
    "cross_val_results = cross_validate(linreg, X_train, y_train, scoring=\"neg_mean_squared_error\", return_train_score=True)\n",
    "# Negative signs in front to convert back to MSE from -MSE\n",
    "train_avg = -cross_val_results[\"train_score\"].mean()\n",
    "test_avg = -cross_val_results[\"test_score\"].mean()\n",
    "\n",
    "#Create bar graph to compare the MSE with a visual\n",
    "colors = [\"#00B3E6\", \"#FFC51B\"]\n",
    "labels = [\"Train\", \"Test\"]\n",
    "fig, ax = plt.subplots()\n",
    "ax.bar(labels, [train_avg, test_avg], color=colors)\n",
    "ax.set_ylabel(\"MSE\")\n",
    "fig.suptitle(\"Average Cross-Validation Scores\");"
   ]
  },
  {
   "cell_type": "code",
   "execution_count": 30,
   "metadata": {},
   "outputs": [
    {
     "name": "stdout",
     "output_type": "stream",
     "text": [
      "Cross Validation Test Mean Squared Error: 55696111872.462234\n",
      "Cross Validation Train Mean Squared Error: 55440984242.84688\n"
     ]
    }
   ],
   "source": [
    "#Cross Validation MSE\n",
    "print('Cross Validation Test Mean Squared Error:', test_avg)\n",
    "print('Cross Validation Train Mean Squared Error:', train_avg)"
   ]
  },
  {
   "cell_type": "code",
   "execution_count": 31,
   "metadata": {},
   "outputs": [],
   "source": [
    "#Fit a linear regression model and calculate MSE for test and train\n",
    "from sklearn.linear_model import LinearRegression\n",
    "linreg = LinearRegression()\n",
    "linreg.fit(X_train, y_train)\n",
    "\n",
    "y_hat_train = linreg.predict(X_train)\n",
    "y_hat_test = linreg.predict(X_test)"
   ]
  },
  {
   "cell_type": "code",
   "execution_count": 32,
   "metadata": {},
   "outputs": [
    {
     "name": "stdout",
     "output_type": "stream",
     "text": [
      "Train Mean Squared Error: 55466559983.2784\n",
      "Test Mean Squared Error: 60458141545.832214\n"
     ]
    }
   ],
   "source": [
    "#calculate the MSE\n",
    "from sklearn.metrics import mean_squared_error\n",
    "\n",
    "train_mse = mean_squared_error(y_train, y_hat_train)\n",
    "test_mse = mean_squared_error(y_test, y_hat_test)\n",
    "print('Train Mean Squared Error:', train_mse)\n",
    "print('Test Mean Squared Error:', test_mse)"
   ]
  },
  {
   "cell_type": "markdown",
   "metadata": {},
   "source": [
    "<p style=\"margin: 10px 0;\"></p>"
   ]
  },
  {
   "cell_type": "markdown",
   "metadata": {},
   "source": [
    "<font msize=\"3\"><b>Check OLS Regression Results</b></font>"
   ]
  },
  {
   "cell_type": "markdown",
   "metadata": {},
   "source": [
    "<font size=\"3\">I checked the Ordinary Least Squares (OLS) Regression Results, I aimed to assess the performance of my model and determine if any further iterations were necessary for optimal results.font>"
   ]
  },
  {
   "cell_type": "code",
   "execution_count": 33,
   "metadata": {},
   "outputs": [],
   "source": [
    "import statsmodels.api as sm\n",
    "#X_train X_test y_train y_test "
   ]
  },
  {
   "cell_type": "code",
   "execution_count": 34,
   "metadata": {},
   "outputs": [
    {
     "data": {
      "text/html": [
       "<table class=\"simpletable\">\n",
       "<caption>OLS Regression Results</caption>\n",
       "<tr>\n",
       "  <th>Dep. Variable:</th>          <td>price</td>      <th>  R-squared:         </th>  <td>   0.594</td>  \n",
       "</tr>\n",
       "<tr>\n",
       "  <th>Model:</th>                   <td>OLS</td>       <th>  Adj. R-squared:    </th>  <td>   0.594</td>  \n",
       "</tr>\n",
       "<tr>\n",
       "  <th>Method:</th>             <td>Least Squares</td>  <th>  F-statistic:       </th>  <td>   2180.</td>  \n",
       "</tr>\n",
       "<tr>\n",
       "  <th>Date:</th>             <td>Thu, 09 Feb 2023</td> <th>  Prob (F-statistic):</th>   <td>  0.00</td>   \n",
       "</tr>\n",
       "<tr>\n",
       "  <th>Time:</th>                 <td>19:42:53</td>     <th>  Log-Likelihood:    </th> <td>-1.8488e+05</td>\n",
       "</tr>\n",
       "<tr>\n",
       "  <th>No. Observations:</th>      <td> 13408</td>      <th>  AIC:               </th>  <td>3.698e+05</td> \n",
       "</tr>\n",
       "<tr>\n",
       "  <th>Df Residuals:</th>          <td> 13398</td>      <th>  BIC:               </th>  <td>3.698e+05</td> \n",
       "</tr>\n",
       "<tr>\n",
       "  <th>Df Model:</th>              <td>     9</td>      <th>                     </th>      <td> </td>     \n",
       "</tr>\n",
       "<tr>\n",
       "  <th>Covariance Type:</th>      <td>nonrobust</td>    <th>                     </th>      <td> </td>     \n",
       "</tr>\n",
       "</table>\n",
       "<table class=\"simpletable\">\n",
       "<tr>\n",
       "        <td></td>          <th>coef</th>     <th>std err</th>      <th>t</th>      <th>P>|t|</th>  <th>[0.025</th>    <th>0.975]</th>  \n",
       "</tr>\n",
       "<tr>\n",
       "  <th>const</th>        <td> -1.86e+05</td> <td> 7839.416</td> <td>  -23.722</td> <td> 0.000</td> <td>-2.01e+05</td> <td>-1.71e+05</td>\n",
       "</tr>\n",
       "<tr>\n",
       "  <th>sqft_living</th>  <td>  278.9922</td> <td>    5.126</td> <td>   54.430</td> <td> 0.000</td> <td>  268.945</td> <td>  289.039</td>\n",
       "</tr>\n",
       "<tr>\n",
       "  <th>sqft_above</th>   <td>   34.7697</td> <td>    5.966</td> <td>    5.828</td> <td> 0.000</td> <td>   23.076</td> <td>   46.463</td>\n",
       "</tr>\n",
       "<tr>\n",
       "  <th>sqft_lot</th>     <td>   -0.6202</td> <td>    0.061</td> <td>  -10.240</td> <td> 0.000</td> <td>   -0.739</td> <td>   -0.502</td>\n",
       "</tr>\n",
       "<tr>\n",
       "  <th>yrs_old</th>      <td> 2445.7254</td> <td>   82.797</td> <td>   29.539</td> <td> 0.000</td> <td> 2283.432</td> <td> 2608.019</td>\n",
       "</tr>\n",
       "<tr>\n",
       "  <th>4-7_bedrooms</th> <td>-7.937e+04</td> <td> 4955.672</td> <td>  -16.016</td> <td> 0.000</td> <td>-8.91e+04</td> <td>-6.97e+04</td>\n",
       "</tr>\n",
       "<tr>\n",
       "  <th>7+_bedrooms</th>  <td>-2.786e+05</td> <td> 3.88e+04</td> <td>   -7.179</td> <td> 0.000</td> <td>-3.55e+05</td> <td>-2.02e+05</td>\n",
       "</tr>\n",
       "<tr>\n",
       "  <th>4+_bathrooms</th> <td> 3.374e+05</td> <td> 1.64e+04</td> <td>   20.542</td> <td> 0.000</td> <td> 3.05e+05</td> <td>  3.7e+05</td>\n",
       "</tr>\n",
       "<tr>\n",
       "  <th>floors_2</th>     <td> 1.061e+04</td> <td> 5724.408</td> <td>    1.854</td> <td> 0.064</td> <td> -608.636</td> <td> 2.18e+04</td>\n",
       "</tr>\n",
       "<tr>\n",
       "  <th>waterfront_1</th> <td> 7.355e+05</td> <td> 2.38e+04</td> <td>   30.864</td> <td> 0.000</td> <td> 6.89e+05</td> <td> 7.82e+05</td>\n",
       "</tr>\n",
       "</table>\n",
       "<table class=\"simpletable\">\n",
       "<tr>\n",
       "  <th>Omnibus:</th>       <td>6466.738</td> <th>  Durbin-Watson:     </th>  <td>   1.986</td> \n",
       "</tr>\n",
       "<tr>\n",
       "  <th>Prob(Omnibus):</th>  <td> 0.000</td>  <th>  Jarque-Bera (JB):  </th> <td>142209.105</td>\n",
       "</tr>\n",
       "<tr>\n",
       "  <th>Skew:</th>           <td> 1.816</td>  <th>  Prob(JB):          </th>  <td>    0.00</td> \n",
       "</tr>\n",
       "<tr>\n",
       "  <th>Kurtosis:</th>       <td>18.536</td>  <th>  Cond. No.          </th>  <td>7.23e+05</td> \n",
       "</tr>\n",
       "</table><br/><br/>Notes:<br/>[1] Standard Errors assume that the covariance matrix of the errors is correctly specified.<br/>[2] The condition number is large, 7.23e+05. This might indicate that there are<br/>strong multicollinearity or other numerical problems."
      ],
      "text/plain": [
       "<class 'statsmodels.iolib.summary.Summary'>\n",
       "\"\"\"\n",
       "                            OLS Regression Results                            \n",
       "==============================================================================\n",
       "Dep. Variable:                  price   R-squared:                       0.594\n",
       "Model:                            OLS   Adj. R-squared:                  0.594\n",
       "Method:                 Least Squares   F-statistic:                     2180.\n",
       "Date:                Thu, 09 Feb 2023   Prob (F-statistic):               0.00\n",
       "Time:                        19:42:53   Log-Likelihood:            -1.8488e+05\n",
       "No. Observations:               13408   AIC:                         3.698e+05\n",
       "Df Residuals:                   13398   BIC:                         3.698e+05\n",
       "Df Model:                           9                                         \n",
       "Covariance Type:            nonrobust                                         \n",
       "================================================================================\n",
       "                   coef    std err          t      P>|t|      [0.025      0.975]\n",
       "--------------------------------------------------------------------------------\n",
       "const         -1.86e+05   7839.416    -23.722      0.000   -2.01e+05   -1.71e+05\n",
       "sqft_living    278.9922      5.126     54.430      0.000     268.945     289.039\n",
       "sqft_above      34.7697      5.966      5.828      0.000      23.076      46.463\n",
       "sqft_lot        -0.6202      0.061    -10.240      0.000      -0.739      -0.502\n",
       "yrs_old       2445.7254     82.797     29.539      0.000    2283.432    2608.019\n",
       "4-7_bedrooms -7.937e+04   4955.672    -16.016      0.000   -8.91e+04   -6.97e+04\n",
       "7+_bedrooms  -2.786e+05   3.88e+04     -7.179      0.000   -3.55e+05   -2.02e+05\n",
       "4+_bathrooms  3.374e+05   1.64e+04     20.542      0.000    3.05e+05     3.7e+05\n",
       "floors_2      1.061e+04   5724.408      1.854      0.064    -608.636    2.18e+04\n",
       "waterfront_1  7.355e+05   2.38e+04     30.864      0.000    6.89e+05    7.82e+05\n",
       "==============================================================================\n",
       "Omnibus:                     6466.738   Durbin-Watson:                   1.986\n",
       "Prob(Omnibus):                  0.000   Jarque-Bera (JB):           142209.105\n",
       "Skew:                           1.816   Prob(JB):                         0.00\n",
       "Kurtosis:                      18.536   Cond. No.                     7.23e+05\n",
       "==============================================================================\n",
       "\n",
       "Notes:\n",
       "[1] Standard Errors assume that the covariance matrix of the errors is correctly specified.\n",
       "[2] The condition number is large, 7.23e+05. This might indicate that there are\n",
       "strong multicollinearity or other numerical problems.\n",
       "\"\"\""
      ]
     },
     "execution_count": 34,
     "metadata": {},
     "output_type": "execute_result"
    }
   ],
   "source": [
    "# View OLS Model\n",
    "X_train_with_intercept = sm.add_constant(X_train)\n",
    "model = sm.OLS(y_train,X_train_with_intercept).fit()\n",
    "model.summary()"
   ]
  },
  {
   "cell_type": "markdown",
   "metadata": {},
   "source": [
    ".\n",
    "\n",
    "\n",
    "\n",
    "<font size=\"7\">ITERATION 2</font>"
   ]
  },
  {
   "cell_type": "markdown",
   "metadata": {},
   "source": [
    "<p style=\"margin: 10px 0;\"></p>"
   ]
  },
  {
   "cell_type": "markdown",
   "metadata": {},
   "source": [
    "<font msize=\"3\"><b>Drop Variables</b></font>"
   ]
  },
  {
   "cell_type": "markdown",
   "metadata": {},
   "source": [
    "<font size=\"3\">After inspecing the OLS results, I notice the 'floors' predictor had a P-value > 0.05 so I decided to drop it.</font>"
   ]
  },
  {
   "cell_type": "code",
   "execution_count": 35,
   "metadata": {},
   "outputs": [],
   "source": [
    "#drop floors_2\n",
    "X_train.drop('floors_2', inplace=True, axis=1)\n",
    "X_test.drop('floors_2', inplace=True, axis=1)"
   ]
  },
  {
   "cell_type": "markdown",
   "metadata": {},
   "source": [
    "<p style=\"margin: 10px 0;\"></p>"
   ]
  },
  {
   "cell_type": "markdown",
   "metadata": {},
   "source": [
    "<font msize=\"3\"><b>Check for skewness</b></font>"
   ]
  },
  {
   "cell_type": "markdown",
   "metadata": {},
   "source": [
    "<font size=\"3\">I used a histogram and Q-Q plot as visuals to check for skewness in my variables</font>"
   ]
  },
  {
   "cell_type": "code",
   "execution_count": 37,
   "metadata": {
    "scrolled": true
   },
   "outputs": [
    {
     "data": {
      "image/png": "[encoded data removed]",
      "text/plain": [
       "<Figure size 1000x1000 with 4 Axes>"
      ]
     },
     "metadata": {},
     "output_type": "display_data"
    }
   ],
   "source": [
    "#check for skewness with Hist\n",
    "cont = ['sqft_living', 'sqft_lot', 'yrs_old', 'sqft_above']\n",
    "X_train[cont].hist(figsize = [10, 10]);"
   ]
  },
  {
   "cell_type": "code",
   "execution_count": 38,
   "metadata": {},
   "outputs": [
    {
     "data": {
      "image/png": "[encoded data removed]",
      "text/plain": [
       "<Figure size 640x480 with 1 Axes>"
      ]
     },
     "metadata": {},
     "output_type": "display_data"
    },
    {
     "data": {
      "image/png": "[encoded data removed]",
      "text/plain": [
       "<Figure size 640x480 with 1 Axes>"
      ]
     },
     "metadata": {},
     "output_type": "display_data"
    },
    {
     "data": {
      "image/png": "[encoded data removed]",
      "text/plain": [
       "<Figure size 640x480 with 1 Axes>"
      ]
     },
     "metadata": {},
     "output_type": "display_data"
    },
    {
     "data": {
      "image/png": "[encoded data removed]",
      "text/plain": [
       "<Figure size 640x480 with 1 Axes>"
      ]
     },
     "metadata": {},
     "output_type": "display_data"
    }
   ],
   "source": [
    "#check for skewness with Q-Q PLot\n",
    "cont = ['sqft_living', 'sqft_lot', 'yrs_old', 'sqft_above']\n",
    "x_cont = X_train[cont]\n",
    "ncols = len(x_cont.columns)\n",
    "\n",
    "from statsmodels.graphics.gofplots import qqplot\n",
    "for col in x_cont.columns:\n",
    "    qqplot(x_cont[col], line='s')"
   ]
  },
  {
   "cell_type": "markdown",
   "metadata": {},
   "source": [
    "<p style=\"margin: 10px 0;\"></p>"
   ]
  },
  {
   "cell_type": "markdown",
   "metadata": {},
   "source": [
    "<font msize=\"3\"><b>Log Transformation</b></font>"
   ]
  },
  {
   "cell_type": "markdown",
   "metadata": {},
   "source": [
    "<font size=\"3\">The visualizations indicated a significant degree of skewness in the data. As a solution, I opted to apply a log transformation in order to alleviate this skewness and improve the data distribution.</font>"
   ]
  },
  {
   "cell_type": "code",
   "execution_count": 39,
   "metadata": {},
   "outputs": [],
   "source": [
    "from sklearn.preprocessing import FunctionTransformer\n",
    "import numpy as np\n",
    "\n",
    "log_columns = ['sqft_living', 'sqft_lot', 'yrs_old', 'sqft_above']\n",
    "\n",
    "# Log transform the X_train column\n",
    "X_train[log_columns] = np.log(X_train[log_columns] + 1)\n",
    "\n",
    "# Log transform the X_test column\n",
    "X_test[log_columns] = np.log(X_test[log_columns] + 1)\n",
    "\n",
    "# Log transform the y_train column\n",
    "y_train = np.log(y_train + 1)\n",
    "\n",
    "# Log transform the y_test  column\n",
    "y_test = np.log(y_test + 1)"
   ]
  },
  {
   "cell_type": "markdown",
   "metadata": {},
   "source": [
    "<p style=\"margin: 10px 0;\"></p>"
   ]
  },
  {
   "cell_type": "markdown",
   "metadata": {},
   "source": [
    "<font msize=\"3\"><b>Re-check for skewness</b></font>"
   ]
  },
  {
   "cell_type": "code",
   "execution_count": 40,
   "metadata": {},
   "outputs": [
    {
     "data": {
      "image/png": "[encoded data removed]",
      "text/plain": [
       "<Figure size 1000x1000 with 4 Axes>"
      ]
     },
     "metadata": {},
     "output_type": "display_data"
    }
   ],
   "source": [
    "#check for skewness with Hist\n",
    "X_train[cont].hist(figsize = [10, 10]);"
   ]
  },
  {
   "cell_type": "code",
   "execution_count": 41,
   "metadata": {},
   "outputs": [
    {
     "data": {
      "image/png": "[encoded data removed]",
      "text/plain": [
       "<Figure size 640x480 with 1 Axes>"
      ]
     },
     "metadata": {},
     "output_type": "display_data"
    },
    {
     "data": {
      "image/png": "[encoded data removed]",
      "text/plain": [
       "<Figure size 640x480 with 1 Axes>"
      ]
     },
     "metadata": {},
     "output_type": "display_data"
    },
    {
     "data": {
      "image/png": "[encoded data removed]",
      "text/plain": [
       "<Figure size 640x480 with 1 Axes>"
      ]
     },
     "metadata": {},
     "output_type": "display_data"
    },
    {
     "data": {
      "image/png": "[encoded data removed]",
      "text/plain": [
       "<Figure size 640x480 with 1 Axes>"
      ]
     },
     "metadata": {},
     "output_type": "display_data"
    }
   ],
   "source": [
    "#check for skewness with Q-Q PLot\n",
    "cont = ['sqft_living', 'sqft_lot', 'yrs_old', 'sqft_above']\n",
    "x_cont = X_train[cont]\n",
    "ncols = len(x_cont.columns)\n",
    "\n",
    "from statsmodels.graphics.gofplots import qqplot\n",
    "for col in x_cont.columns:\n",
    "    qqplot(x_cont[col], line='s')"
   ]
  },
  {
   "cell_type": "markdown",
   "metadata": {},
   "source": [
    "<p style=\"margin: 10px 0;\"></p>"
   ]
  },
  {
   "cell_type": "markdown",
   "metadata": {},
   "source": [
    "<font msize=\"3\"><b>Check the MSE again</b></font>"
   ]
  },
  {
   "cell_type": "markdown",
   "metadata": {},
   "source": [
    "<font size=\"3\">The skewness had improves a lot so I checked the MSE error again to make sure there weren't any noticable changes that would affect the model making accurate predictions</font>"
   ]
  },
  {
   "cell_type": "code",
   "execution_count": 42,
   "metadata": {},
   "outputs": [],
   "source": [
    "linreg = LinearRegression()\n",
    "linreg.fit(X_train, y_train)\n",
    "\n",
    "y_hat_train = linreg.predict(X_train)\n",
    "y_hat_test = linreg.predict(X_test)"
   ]
  },
  {
   "cell_type": "code",
   "execution_count": 43,
   "metadata": {},
   "outputs": [
    {
     "name": "stdout",
     "output_type": "stream",
     "text": [
      "Train Mean Squared Error: 0.13630376632999675\n",
      "Test Mean Squared Error: 0.13961887507885778\n"
     ]
    }
   ],
   "source": [
    "#calculate the MSE\n",
    "train_mse = mean_squared_error(y_train, y_hat_train)\n",
    "test_mse = mean_squared_error(y_test, y_hat_test)\n",
    "print('Train Mean Squared Error:', train_mse)\n",
    "print('Test Mean Squared Error:', test_mse)"
   ]
  },
  {
   "cell_type": "code",
   "execution_count": 44,
   "metadata": {},
   "outputs": [
    {
     "data": {
      "image/png": "[encoded data removed]",
      "text/plain": [
       "<Figure size 640x480 with 1 Axes>"
      ]
     },
     "metadata": {},
     "output_type": "display_data"
    }
   ],
   "source": [
    "cross_val_results = cross_validate(linreg, X_train, y_train, scoring=\"neg_mean_squared_error\", return_train_score=True)\n",
    "# Negative signs in front to convert back to MSE from -MSE\n",
    "train_avg = -cross_val_results[\"train_score\"].mean()\n",
    "test_avg = -cross_val_results[\"test_score\"].mean()\n",
    "\n",
    "colors = [\"#00B3E6\", \"#FFC51B\"]\n",
    "labels = [\"Train\", \"Test\"]\n",
    "fig, ax = plt.subplots()\n",
    "ax.bar(labels, [train_avg, test_avg], color=colors)\n",
    "ax.set_ylabel(\"MSE\")\n",
    "fig.suptitle(\"Average Cross-Validation Scores\");"
   ]
  },
  {
   "cell_type": "code",
   "execution_count": 45,
   "metadata": {},
   "outputs": [
    {
     "name": "stdout",
     "output_type": "stream",
     "text": [
      "Cross Validation Test Mean Squared Error: 0.1364934206252361\n",
      "Cross Validation Train Mean Squared Error: 0.1362827077109901\n"
     ]
    }
   ],
   "source": [
    "#Cross Validation MSE\n",
    "print('Cross Validation Test Mean Squared Error:', test_avg)\n",
    "print('Cross Validation Train Mean Squared Error:', train_avg)"
   ]
  },
  {
   "cell_type": "markdown",
   "metadata": {},
   "source": [
    "<p style=\"margin: 10px 0;\"></p>"
   ]
  },
  {
   "cell_type": "markdown",
   "metadata": {},
   "source": [
    "<font msize=\"3\"><b>Check the OLS again</b></font>"
   ]
  },
  {
   "cell_type": "markdown",
   "metadata": {},
   "source": [
    "<font size=\"3\">Following the implementation of the log transformation, I sought to re-evaluate the Ordinary Least Squares (OLS) results to determine if it had resulted in a more interpretable model and if any noteworthy changes had occurred.</font>"
   ]
  },
  {
   "cell_type": "code",
   "execution_count": 46,
   "metadata": {},
   "outputs": [
    {
     "data": {
      "text/html": [
       "<table class=\"simpletable\">\n",
       "<caption>OLS Regression Results</caption>\n",
       "<tr>\n",
       "  <th>Dep. Variable:</th>          <td>price</td>      <th>  R-squared:         </th> <td>   0.508</td> \n",
       "</tr>\n",
       "<tr>\n",
       "  <th>Model:</th>                   <td>OLS</td>       <th>  Adj. R-squared:    </th> <td>   0.508</td> \n",
       "</tr>\n",
       "<tr>\n",
       "  <th>Method:</th>             <td>Least Squares</td>  <th>  F-statistic:       </th> <td>   1733.</td> \n",
       "</tr>\n",
       "<tr>\n",
       "  <th>Date:</th>             <td>Thu, 09 Feb 2023</td> <th>  Prob (F-statistic):</th>  <td>  0.00</td>  \n",
       "</tr>\n",
       "<tr>\n",
       "  <th>Time:</th>                 <td>19:42:57</td>     <th>  Log-Likelihood:    </th> <td> -5664.9</td> \n",
       "</tr>\n",
       "<tr>\n",
       "  <th>No. Observations:</th>      <td> 13408</td>      <th>  AIC:               </th> <td>1.135e+04</td>\n",
       "</tr>\n",
       "<tr>\n",
       "  <th>Df Residuals:</th>          <td> 13399</td>      <th>  BIC:               </th> <td>1.142e+04</td>\n",
       "</tr>\n",
       "<tr>\n",
       "  <th>Df Model:</th>              <td>     8</td>      <th>                     </th>     <td> </td>    \n",
       "</tr>\n",
       "<tr>\n",
       "  <th>Covariance Type:</th>      <td>nonrobust</td>    <th>                     </th>     <td> </td>    \n",
       "</tr>\n",
       "</table>\n",
       "<table class=\"simpletable\">\n",
       "<tr>\n",
       "        <td></td>          <th>coef</th>     <th>std err</th>      <th>t</th>      <th>P>|t|</th>  <th>[0.025</th>    <th>0.975]</th>  \n",
       "</tr>\n",
       "<tr>\n",
       "  <th>const</th>        <td>    6.0965</td> <td>    0.082</td> <td>   74.200</td> <td> 0.000</td> <td>    5.935</td> <td>    6.258</td>\n",
       "</tr>\n",
       "<tr>\n",
       "  <th>sqft_living</th>  <td>    0.8222</td> <td>    0.016</td> <td>   50.432</td> <td> 0.000</td> <td>    0.790</td> <td>    0.854</td>\n",
       "</tr>\n",
       "<tr>\n",
       "  <th>sqft_above</th>   <td>    0.1651</td> <td>    0.016</td> <td>   10.208</td> <td> 0.000</td> <td>    0.133</td> <td>    0.197</td>\n",
       "</tr>\n",
       "<tr>\n",
       "  <th>sqft_lot</th>     <td>   -0.0885</td> <td>    0.004</td> <td>  -22.082</td> <td> 0.000</td> <td>   -0.096</td> <td>   -0.081</td>\n",
       "</tr>\n",
       "<tr>\n",
       "  <th>yrs_old</th>      <td>    0.0950</td> <td>    0.004</td> <td>   21.453</td> <td> 0.000</td> <td>    0.086</td> <td>    0.104</td>\n",
       "</tr>\n",
       "<tr>\n",
       "  <th>4-7_bedrooms</th> <td>   -0.0705</td> <td>    0.008</td> <td>   -8.935</td> <td> 0.000</td> <td>   -0.086</td> <td>   -0.055</td>\n",
       "</tr>\n",
       "<tr>\n",
       "  <th>7+_bedrooms</th>  <td>   -0.2380</td> <td>    0.061</td> <td>   -3.921</td> <td> 0.000</td> <td>   -0.357</td> <td>   -0.119</td>\n",
       "</tr>\n",
       "<tr>\n",
       "  <th>4+_bathrooms</th> <td>    0.3543</td> <td>    0.025</td> <td>   14.415</td> <td> 0.000</td> <td>    0.306</td> <td>    0.402</td>\n",
       "</tr>\n",
       "<tr>\n",
       "  <th>waterfront_1</th> <td>    0.6940</td> <td>    0.037</td> <td>   18.612</td> <td> 0.000</td> <td>    0.621</td> <td>    0.767</td>\n",
       "</tr>\n",
       "</table>\n",
       "<table class=\"simpletable\">\n",
       "<tr>\n",
       "  <th>Omnibus:</th>       <td>17.661</td> <th>  Durbin-Watson:     </th> <td>   1.979</td>\n",
       "</tr>\n",
       "<tr>\n",
       "  <th>Prob(Omnibus):</th> <td> 0.000</td> <th>  Jarque-Bera (JB):  </th> <td>  15.264</td>\n",
       "</tr>\n",
       "<tr>\n",
       "  <th>Skew:</th>          <td>-0.021</td> <th>  Prob(JB):          </th> <td>0.000485</td>\n",
       "</tr>\n",
       "<tr>\n",
       "  <th>Kurtosis:</th>      <td> 2.840</td> <th>  Cond. No.          </th> <td>    376.</td>\n",
       "</tr>\n",
       "</table><br/><br/>Notes:<br/>[1] Standard Errors assume that the covariance matrix of the errors is correctly specified."
      ],
      "text/plain": [
       "<class 'statsmodels.iolib.summary.Summary'>\n",
       "\"\"\"\n",
       "                            OLS Regression Results                            \n",
       "==============================================================================\n",
       "Dep. Variable:                  price   R-squared:                       0.508\n",
       "Model:                            OLS   Adj. R-squared:                  0.508\n",
       "Method:                 Least Squares   F-statistic:                     1733.\n",
       "Date:                Thu, 09 Feb 2023   Prob (F-statistic):               0.00\n",
       "Time:                        19:42:57   Log-Likelihood:                -5664.9\n",
       "No. Observations:               13408   AIC:                         1.135e+04\n",
       "Df Residuals:                   13399   BIC:                         1.142e+04\n",
       "Df Model:                           8                                         \n",
       "Covariance Type:            nonrobust                                         \n",
       "================================================================================\n",
       "                   coef    std err          t      P>|t|      [0.025      0.975]\n",
       "--------------------------------------------------------------------------------\n",
       "const            6.0965      0.082     74.200      0.000       5.935       6.258\n",
       "sqft_living      0.8222      0.016     50.432      0.000       0.790       0.854\n",
       "sqft_above       0.1651      0.016     10.208      0.000       0.133       0.197\n",
       "sqft_lot        -0.0885      0.004    -22.082      0.000      -0.096      -0.081\n",
       "yrs_old          0.0950      0.004     21.453      0.000       0.086       0.104\n",
       "4-7_bedrooms    -0.0705      0.008     -8.935      0.000      -0.086      -0.055\n",
       "7+_bedrooms     -0.2380      0.061     -3.921      0.000      -0.357      -0.119\n",
       "4+_bathrooms     0.3543      0.025     14.415      0.000       0.306       0.402\n",
       "waterfront_1     0.6940      0.037     18.612      0.000       0.621       0.767\n",
       "==============================================================================\n",
       "Omnibus:                       17.661   Durbin-Watson:                   1.979\n",
       "Prob(Omnibus):                  0.000   Jarque-Bera (JB):               15.264\n",
       "Skew:                          -0.021   Prob(JB):                     0.000485\n",
       "Kurtosis:                       2.840   Cond. No.                         376.\n",
       "==============================================================================\n",
       "\n",
       "Notes:\n",
       "[1] Standard Errors assume that the covariance matrix of the errors is correctly specified.\n",
       "\"\"\""
      ]
     },
     "execution_count": 46,
     "metadata": {},
     "output_type": "execute_result"
    }
   ],
   "source": [
    "X_train_with_intercept = sm.add_constant(X_train)\n",
    "model = sm.OLS(y_train,X_train_with_intercept).fit()\n",
    "model.summary()"
   ]
  },
  {
   "cell_type": "markdown",
   "metadata": {},
   "source": [
    ".\n",
    "\n",
    "\n",
    "<font size=\"7\">ITERATION 3</font>"
   ]
  },
  {
   "cell_type": "markdown",
   "metadata": {},
   "source": [
    "<p style=\"margin: 10px 0;\"></p>"
   ]
  },
  {
   "cell_type": "markdown",
   "metadata": {},
   "source": [
    "<font msize=\"3\"><b>Introduce more variables</b></font>"
   ]
  },
  {
   "cell_type": "markdown",
   "metadata": {},
   "source": [
    "<font size=\"3\">An examination of the P-values revealed they were all within acceptable bounds. However, the low adjusted R-squared in my model raises concerns regarding its predictive capability. To enhance its accuracy, I intend to incorporate additional predictors that have a strong correlation with the property price, specifically the 'grade' variable.</font>"
   ]
  },
  {
   "cell_type": "code",
   "execution_count": 74,
   "metadata": {},
   "outputs": [],
   "source": [
    "#create a new 'grade' variable and perform a log test before joining it onto the data\n",
    "grade_log = np.log(data_mc['grade'] + 1)"
   ]
  },
  {
   "cell_type": "code",
   "execution_count": 49,
   "metadata": {},
   "outputs": [],
   "source": [
    "#Join 'grade' onto the X_train and X_test\n",
    "X_train = pd.concat([X_train, grade_log], axis=1)\n",
    "X_test = pd.concat([X_test, grade_log], axis=1)\n",
    "X_train = X_train.dropna()\n",
    "X_test = X_test.dropna()"
   ]
  },
  {
   "cell_type": "markdown",
   "metadata": {},
   "source": [
    "<p style=\"margin: 10px 0;\"></p>"
   ]
  },
  {
   "cell_type": "markdown",
   "metadata": {},
   "source": [
    "<font msize=\"3\"><b>Mean Normalization Transformaion</b></font>"
   ]
  },
  {
   "cell_type": "markdown",
   "metadata": {},
   "source": [
    "<font size=\"3\">Analysis of the previous Q-Q plot still reveals the presence of outliers that are influencing the model. To mitigate this issue, I intend to utilize a normalization technique. </font>"
   ]
  },
  {
   "cell_type": "code",
   "execution_count": 51,
   "metadata": {},
   "outputs": [],
   "source": [
    "cont = ['sqft_living', 'sqft_lot', 'yrs_old', 'sqft_above', 'grade']\n",
    "\n",
    "#create normalization function\n",
    "def normalize(series):\n",
    "    return (series - series.mean()) / series.std()\n",
    "\n",
    "#perform normalization on X-train and X_test variables\n",
    "X_train[cont] = X_train[cont].apply(normalize)\n",
    "X_test[cont] = X_test[cont].apply(normalize)\n",
    "y_train = normalize(y_train)\n",
    "y_test = normalize(y_test)"
   ]
  },
  {
   "cell_type": "markdown",
   "metadata": {},
   "source": [
    "<p style=\"margin: 10px 0;\"></p>"
   ]
  },
  {
   "cell_type": "markdown",
   "metadata": {},
   "source": [
    "<font msize=\"3\"><b>Final check of OLS Regression Results</b></font>"
   ]
  },
  {
   "cell_type": "markdown",
   "metadata": {},
   "source": [
    "<font size=\"3\">Following the application of mean normalization and introduced variables, it is expected that the results of the Ordinary Least Squares (OLS) analysis will become clearer and more easily interpretable and we will see an increase in the Adj, R-squared value.\n",
    "</font>"
   ]
  },
  {
   "cell_type": "code",
   "execution_count": 54,
   "metadata": {},
   "outputs": [
    {
     "data": {
      "text/html": [
       "<table class=\"simpletable\">\n",
       "<caption>OLS Regression Results</caption>\n",
       "<tr>\n",
       "  <th>Dep. Variable:</th>          <td>price</td>      <th>  R-squared:         </th> <td>   0.605</td> \n",
       "</tr>\n",
       "<tr>\n",
       "  <th>Model:</th>                   <td>OLS</td>       <th>  Adj. R-squared:    </th> <td>   0.605</td> \n",
       "</tr>\n",
       "<tr>\n",
       "  <th>Method:</th>             <td>Least Squares</td>  <th>  F-statistic:       </th> <td>   2282.</td> \n",
       "</tr>\n",
       "<tr>\n",
       "  <th>Date:</th>             <td>Thu, 09 Feb 2023</td> <th>  Prob (F-statistic):</th>  <td>  0.00</td>  \n",
       "</tr>\n",
       "<tr>\n",
       "  <th>Time:</th>                 <td>19:42:59</td>     <th>  Log-Likelihood:    </th> <td> -12794.</td> \n",
       "</tr>\n",
       "<tr>\n",
       "  <th>No. Observations:</th>      <td> 13408</td>      <th>  AIC:               </th> <td>2.561e+04</td>\n",
       "</tr>\n",
       "<tr>\n",
       "  <th>Df Residuals:</th>          <td> 13398</td>      <th>  BIC:               </th> <td>2.568e+04</td>\n",
       "</tr>\n",
       "<tr>\n",
       "  <th>Df Model:</th>              <td>     9</td>      <th>                     </th>     <td> </td>    \n",
       "</tr>\n",
       "<tr>\n",
       "  <th>Covariance Type:</th>      <td>nonrobust</td>    <th>                     </th>     <td> </td>    \n",
       "</tr>\n",
       "</table>\n",
       "<table class=\"simpletable\">\n",
       "<tr>\n",
       "        <td></td>          <th>coef</th>     <th>std err</th>      <th>t</th>      <th>P>|t|</th>  <th>[0.025</th>    <th>0.975]</th>  \n",
       "</tr>\n",
       "<tr>\n",
       "  <th>const</th>        <td>   -0.0039</td> <td>    0.008</td> <td>   -0.493</td> <td> 0.622</td> <td>   -0.019</td> <td>    0.012</td>\n",
       "</tr>\n",
       "<tr>\n",
       "  <th>sqft_living</th>  <td>    0.4046</td> <td>    0.013</td> <td>   32.010</td> <td> 0.000</td> <td>    0.380</td> <td>    0.429</td>\n",
       "</tr>\n",
       "<tr>\n",
       "  <th>sqft_above</th>   <td>   -0.0089</td> <td>    0.012</td> <td>   -0.740</td> <td> 0.459</td> <td>   -0.033</td> <td>    0.015</td>\n",
       "</tr>\n",
       "<tr>\n",
       "  <th>sqft_lot</th>     <td>   -0.1256</td> <td>    0.006</td> <td>  -20.348</td> <td> 0.000</td> <td>   -0.138</td> <td>   -0.114</td>\n",
       "</tr>\n",
       "<tr>\n",
       "  <th>yrs_old</th>      <td>    0.2359</td> <td>    0.007</td> <td>   35.312</td> <td> 0.000</td> <td>    0.223</td> <td>    0.249</td>\n",
       "</tr>\n",
       "<tr>\n",
       "  <th>4-7_bedrooms</th> <td>   -0.0348</td> <td>    0.014</td> <td>   -2.571</td> <td> 0.010</td> <td>   -0.061</td> <td>   -0.008</td>\n",
       "</tr>\n",
       "<tr>\n",
       "  <th>7+_bedrooms</th>  <td>   -0.0295</td> <td>    0.104</td> <td>   -0.285</td> <td> 0.776</td> <td>   -0.233</td> <td>    0.173</td>\n",
       "</tr>\n",
       "<tr>\n",
       "  <th>4+_bathrooms</th> <td>    0.4793</td> <td>    0.042</td> <td>   11.421</td> <td> 0.000</td> <td>    0.397</td> <td>    0.562</td>\n",
       "</tr>\n",
       "<tr>\n",
       "  <th>waterfront_1</th> <td>    1.2047</td> <td>    0.063</td> <td>   18.973</td> <td> 0.000</td> <td>    1.080</td> <td>    1.329</td>\n",
       "</tr>\n",
       "<tr>\n",
       "  <th>grade</th>        <td>    0.5108</td> <td>    0.009</td> <td>   57.297</td> <td> 0.000</td> <td>    0.493</td> <td>    0.528</td>\n",
       "</tr>\n",
       "</table>\n",
       "<table class=\"simpletable\">\n",
       "<tr>\n",
       "  <th>Omnibus:</th>       <td>25.980</td> <th>  Durbin-Watson:     </th> <td>   1.998</td>\n",
       "</tr>\n",
       "<tr>\n",
       "  <th>Prob(Omnibus):</th> <td> 0.000</td> <th>  Jarque-Bera (JB):  </th> <td>  31.976</td>\n",
       "</tr>\n",
       "<tr>\n",
       "  <th>Skew:</th>          <td> 0.000</td> <th>  Prob(JB):          </th> <td>1.14e-07</td>\n",
       "</tr>\n",
       "<tr>\n",
       "  <th>Kurtosis:</th>      <td> 3.239</td> <th>  Cond. No.          </th> <td>    33.1</td>\n",
       "</tr>\n",
       "</table><br/><br/>Notes:<br/>[1] Standard Errors assume that the covariance matrix of the errors is correctly specified."
      ],
      "text/plain": [
       "<class 'statsmodels.iolib.summary.Summary'>\n",
       "\"\"\"\n",
       "                            OLS Regression Results                            \n",
       "==============================================================================\n",
       "Dep. Variable:                  price   R-squared:                       0.605\n",
       "Model:                            OLS   Adj. R-squared:                  0.605\n",
       "Method:                 Least Squares   F-statistic:                     2282.\n",
       "Date:                Thu, 09 Feb 2023   Prob (F-statistic):               0.00\n",
       "Time:                        19:42:59   Log-Likelihood:                -12794.\n",
       "No. Observations:               13408   AIC:                         2.561e+04\n",
       "Df Residuals:                   13398   BIC:                         2.568e+04\n",
       "Df Model:                           9                                         \n",
       "Covariance Type:            nonrobust                                         \n",
       "================================================================================\n",
       "                   coef    std err          t      P>|t|      [0.025      0.975]\n",
       "--------------------------------------------------------------------------------\n",
       "const           -0.0039      0.008     -0.493      0.622      -0.019       0.012\n",
       "sqft_living      0.4046      0.013     32.010      0.000       0.380       0.429\n",
       "sqft_above      -0.0089      0.012     -0.740      0.459      -0.033       0.015\n",
       "sqft_lot        -0.1256      0.006    -20.348      0.000      -0.138      -0.114\n",
       "yrs_old          0.2359      0.007     35.312      0.000       0.223       0.249\n",
       "4-7_bedrooms    -0.0348      0.014     -2.571      0.010      -0.061      -0.008\n",
       "7+_bedrooms     -0.0295      0.104     -0.285      0.776      -0.233       0.173\n",
       "4+_bathrooms     0.4793      0.042     11.421      0.000       0.397       0.562\n",
       "waterfront_1     1.2047      0.063     18.973      0.000       1.080       1.329\n",
       "grade            0.5108      0.009     57.297      0.000       0.493       0.528\n",
       "==============================================================================\n",
       "Omnibus:                       25.980   Durbin-Watson:                   1.998\n",
       "Prob(Omnibus):                  0.000   Jarque-Bera (JB):               31.976\n",
       "Skew:                           0.000   Prob(JB):                     1.14e-07\n",
       "Kurtosis:                       3.239   Cond. No.                         33.1\n",
       "==============================================================================\n",
       "\n",
       "Notes:\n",
       "[1] Standard Errors assume that the covariance matrix of the errors is correctly specified.\n",
       "\"\"\""
      ]
     },
     "execution_count": 54,
     "metadata": {},
     "output_type": "execute_result"
    }
   ],
   "source": [
    "# View OLS Model\n",
    "X_train_with_intercept = sm.add_constant(X_train)\n",
    "model = sm.OLS(y_train,X_train_with_intercept).fit()\n",
    "model.summary()"
   ]
  },
  {
   "cell_type": "markdown",
   "metadata": {},
   "source": [
    "<p style=\"margin: 10px 0;\"></p>"
   ]
  },
  {
   "cell_type": "markdown",
   "metadata": {},
   "source": [
    "<font msize=\"3\"><b>Drop unwanted predictors</b></font>"
   ]
  },
  {
   "cell_type": "markdown",
   "metadata": {},
   "source": [
    "<font size=\"3\">With the clarity gained through the interpretable Ordinary Least Squares (OLS) analysis, it has become evident that the '7+_bedrooms' and 'sqft_above' predictors should be dropped due to their high P-values, indicating a lack of statistical significance.</font>"
   ]
  },
  {
   "cell_type": "code",
   "execution_count": 55,
   "metadata": {},
   "outputs": [],
   "source": [
    "X_train.drop('7+_bedrooms', inplace=True, axis=1)\n",
    "X_test.drop('7+_bedrooms', inplace=True, axis=1)\n",
    "X_train.drop('sqft_above', inplace=True, axis=1)\n",
    "X_test.drop('sqft_above', inplace=True, axis=1)"
   ]
  },
  {
   "cell_type": "markdown",
   "metadata": {},
   "source": [
    "<p style=\"margin: 10px 0;\"></p>"
   ]
  },
  {
   "cell_type": "markdown",
   "metadata": {},
   "source": [
    "<font msize=\"3\"><b>Final OLS Check</b></font>"
   ]
  },
  {
   "cell_type": "code",
   "execution_count": 56,
   "metadata": {},
   "outputs": [
    {
     "data": {
      "text/html": [
       "<table class=\"simpletable\">\n",
       "<caption>OLS Regression Results</caption>\n",
       "<tr>\n",
       "  <th>Dep. Variable:</th>          <td>price</td>      <th>  R-squared:         </th> <td>   0.605</td> \n",
       "</tr>\n",
       "<tr>\n",
       "  <th>Model:</th>                   <td>OLS</td>       <th>  Adj. R-squared:    </th> <td>   0.605</td> \n",
       "</tr>\n",
       "<tr>\n",
       "  <th>Method:</th>             <td>Least Squares</td>  <th>  F-statistic:       </th> <td>   2934.</td> \n",
       "</tr>\n",
       "<tr>\n",
       "  <th>Date:</th>             <td>Thu, 09 Feb 2023</td> <th>  Prob (F-statistic):</th>  <td>  0.00</td>  \n",
       "</tr>\n",
       "<tr>\n",
       "  <th>Time:</th>                 <td>19:43:00</td>     <th>  Log-Likelihood:    </th> <td> -12794.</td> \n",
       "</tr>\n",
       "<tr>\n",
       "  <th>No. Observations:</th>      <td> 13408</td>      <th>  AIC:               </th> <td>2.560e+04</td>\n",
       "</tr>\n",
       "<tr>\n",
       "  <th>Df Residuals:</th>          <td> 13400</td>      <th>  BIC:               </th> <td>2.566e+04</td>\n",
       "</tr>\n",
       "<tr>\n",
       "  <th>Df Model:</th>              <td>     7</td>      <th>                     </th>     <td> </td>    \n",
       "</tr>\n",
       "<tr>\n",
       "  <th>Covariance Type:</th>      <td>nonrobust</td>    <th>                     </th>     <td> </td>    \n",
       "</tr>\n",
       "</table>\n",
       "<table class=\"simpletable\">\n",
       "<tr>\n",
       "        <td></td>          <th>coef</th>     <th>std err</th>      <th>t</th>      <th>P>|t|</th>  <th>[0.025</th>    <th>0.975]</th>  \n",
       "</tr>\n",
       "<tr>\n",
       "  <th>const</th>        <td>   -0.0040</td> <td>    0.008</td> <td>   -0.517</td> <td> 0.605</td> <td>   -0.019</td> <td>    0.011</td>\n",
       "</tr>\n",
       "<tr>\n",
       "  <th>sqft_living</th>  <td>    0.3984</td> <td>    0.010</td> <td>   40.619</td> <td> 0.000</td> <td>    0.379</td> <td>    0.418</td>\n",
       "</tr>\n",
       "<tr>\n",
       "  <th>sqft_lot</th>     <td>   -0.1265</td> <td>    0.006</td> <td>  -21.005</td> <td> 0.000</td> <td>   -0.138</td> <td>   -0.115</td>\n",
       "</tr>\n",
       "<tr>\n",
       "  <th>yrs_old</th>      <td>    0.2374</td> <td>    0.006</td> <td>   37.477</td> <td> 0.000</td> <td>    0.225</td> <td>    0.250</td>\n",
       "</tr>\n",
       "<tr>\n",
       "  <th>4-7_bedrooms</th> <td>   -0.0345</td> <td>    0.013</td> <td>   -2.571</td> <td> 0.010</td> <td>   -0.061</td> <td>   -0.008</td>\n",
       "</tr>\n",
       "<tr>\n",
       "  <th>4+_bathrooms</th> <td>    0.4767</td> <td>    0.041</td> <td>   11.493</td> <td> 0.000</td> <td>    0.395</td> <td>    0.558</td>\n",
       "</tr>\n",
       "<tr>\n",
       "  <th>waterfront_1</th> <td>    1.2066</td> <td>    0.063</td> <td>   19.019</td> <td> 0.000</td> <td>    1.082</td> <td>    1.331</td>\n",
       "</tr>\n",
       "<tr>\n",
       "  <th>grade</th>        <td>    0.5096</td> <td>    0.009</td> <td>   58.568</td> <td> 0.000</td> <td>    0.493</td> <td>    0.527</td>\n",
       "</tr>\n",
       "</table>\n",
       "<table class=\"simpletable\">\n",
       "<tr>\n",
       "  <th>Omnibus:</th>       <td>25.651</td> <th>  Durbin-Watson:     </th> <td>   1.998</td>\n",
       "</tr>\n",
       "<tr>\n",
       "  <th>Prob(Omnibus):</th> <td> 0.000</td> <th>  Jarque-Bera (JB):  </th> <td>  31.522</td>\n",
       "</tr>\n",
       "<tr>\n",
       "  <th>Skew:</th>          <td>-0.001</td> <th>  Prob(JB):          </th> <td>1.43e-07</td>\n",
       "</tr>\n",
       "<tr>\n",
       "  <th>Kurtosis:</th>      <td> 3.238</td> <th>  Cond. No.          </th> <td>    17.2</td>\n",
       "</tr>\n",
       "</table><br/><br/>Notes:<br/>[1] Standard Errors assume that the covariance matrix of the errors is correctly specified."
      ],
      "text/plain": [
       "<class 'statsmodels.iolib.summary.Summary'>\n",
       "\"\"\"\n",
       "                            OLS Regression Results                            \n",
       "==============================================================================\n",
       "Dep. Variable:                  price   R-squared:                       0.605\n",
       "Model:                            OLS   Adj. R-squared:                  0.605\n",
       "Method:                 Least Squares   F-statistic:                     2934.\n",
       "Date:                Thu, 09 Feb 2023   Prob (F-statistic):               0.00\n",
       "Time:                        19:43:00   Log-Likelihood:                -12794.\n",
       "No. Observations:               13408   AIC:                         2.560e+04\n",
       "Df Residuals:                   13400   BIC:                         2.566e+04\n",
       "Df Model:                           7                                         \n",
       "Covariance Type:            nonrobust                                         \n",
       "================================================================================\n",
       "                   coef    std err          t      P>|t|      [0.025      0.975]\n",
       "--------------------------------------------------------------------------------\n",
       "const           -0.0040      0.008     -0.517      0.605      -0.019       0.011\n",
       "sqft_living      0.3984      0.010     40.619      0.000       0.379       0.418\n",
       "sqft_lot        -0.1265      0.006    -21.005      0.000      -0.138      -0.115\n",
       "yrs_old          0.2374      0.006     37.477      0.000       0.225       0.250\n",
       "4-7_bedrooms    -0.0345      0.013     -2.571      0.010      -0.061      -0.008\n",
       "4+_bathrooms     0.4767      0.041     11.493      0.000       0.395       0.558\n",
       "waterfront_1     1.2066      0.063     19.019      0.000       1.082       1.331\n",
       "grade            0.5096      0.009     58.568      0.000       0.493       0.527\n",
       "==============================================================================\n",
       "Omnibus:                       25.651   Durbin-Watson:                   1.998\n",
       "Prob(Omnibus):                  0.000   Jarque-Bera (JB):               31.522\n",
       "Skew:                          -0.001   Prob(JB):                     1.43e-07\n",
       "Kurtosis:                       3.238   Cond. No.                         17.2\n",
       "==============================================================================\n",
       "\n",
       "Notes:\n",
       "[1] Standard Errors assume that the covariance matrix of the errors is correctly specified.\n",
       "\"\"\""
      ]
     },
     "execution_count": 56,
     "metadata": {},
     "output_type": "execute_result"
    }
   ],
   "source": [
    "X_train_with_intercept = sm.add_constant(X_train)\n",
    "model = sm.OLS(y_train,X_train_with_intercept).fit()\n",
    "model.summary()"
   ]
  },
  {
   "cell_type": "markdown",
   "metadata": {},
   "source": [
    "<p style=\"margin: 10px 0;\"></p>"
   ]
  },
  {
   "cell_type": "markdown",
   "metadata": {},
   "source": [
    "<font msize=\"3\"><b>Final MSE Check</b></font>"
   ]
  },
  {
   "cell_type": "code",
   "execution_count": 57,
   "metadata": {},
   "outputs": [],
   "source": [
    "linreg = LinearRegression()\n",
    "linreg.fit(X_train, y_train)\n",
    "\n",
    "y_hat_train = linreg.predict(X_train)\n",
    "y_hat_test = linreg.predict(X_test)"
   ]
  },
  {
   "cell_type": "code",
   "execution_count": 58,
   "metadata": {},
   "outputs": [
    {
     "name": "stdout",
     "output_type": "stream",
     "text": [
      "Train Mean Squared Error: 0.39479111205319956\n",
      "Test Mean Squared Error: 0.40677708114208466\n"
     ]
    }
   ],
   "source": [
    "#calculate the MSE\n",
    "train_mse = mean_squared_error(y_train, y_hat_train)\n",
    "test_mse = mean_squared_error(y_test, y_hat_test)\n",
    "print('Train Mean Squared Error:', train_mse)\n",
    "print('Test Mean Squared Error:', test_mse)"
   ]
  },
  {
   "cell_type": "code",
   "execution_count": 59,
   "metadata": {},
   "outputs": [
    {
     "data": {
      "image/png": "[encoded data removed]",
      "text/plain": [
       "<Figure size 640x480 with 1 Axes>"
      ]
     },
     "metadata": {},
     "output_type": "display_data"
    }
   ],
   "source": [
    "cross_val_results = cross_validate(linreg, X_train, y_train, scoring=\"neg_mean_squared_error\", return_train_score=True)\n",
    "# Negative signs in front to convert back to MSE from -MSE\n",
    "train_avg = -cross_val_results[\"train_score\"].mean()\n",
    "test_avg = -cross_val_results[\"test_score\"].mean()\n",
    "\n",
    "colors = [\"#00B3E6\", \"#FFC51B\"]\n",
    "labels = [\"Train\", \"Test\"]\n",
    "fig, ax = plt.subplots()\n",
    "ax.bar(labels, [train_avg, test_avg], color=colors)\n",
    "ax.set_ylabel(\"MSE\")\n",
    "fig.suptitle(\"Average Cross-Validation Scores\");"
   ]
  },
  {
   "cell_type": "code",
   "execution_count": 60,
   "metadata": {},
   "outputs": [
    {
     "name": "stdout",
     "output_type": "stream",
     "text": [
      "Cross Validation Test Mean Squared Error: 0.39554550768025376\n",
      "Cross Validation Train Mean Squared Error: 0.39470741163667333\n"
     ]
    }
   ],
   "source": [
    "#Cross Validation MSE\n",
    "print('Cross Validation Test Mean Squared Error:', test_avg)\n",
    "print('Cross Validation Train Mean Squared Error:', train_avg)"
   ]
  },
  {
   "cell_type": "markdown",
   "metadata": {},
   "source": [
    "<p style=\"margin: 10px 0;\"></p>"
   ]
  },
  {
   "cell_type": "markdown",
   "metadata": {},
   "source": [
    "<font msize=\"3\"><b>Conclusion:</b></font>"
   ]
  },
  {
   "cell_type": "markdown",
   "metadata": {},
   "source": [
    "<font size=\"3\">Based on the results of my modeling efforts, it has been determined that the predictors that exert the most significant impact on the sale price are, in order of importance: waterfront view, grade of the property, number of bathrooms, and living area.</font>"
   ]
  },
  {
   "cell_type": "markdown",
   "metadata": {},
   "source": [
    "<p style=\"margin: 10px 0;\"></p>"
   ]
  },
  {
   "cell_type": "markdown",
   "metadata": {},
   "source": [
    ".\n",
    "\n",
    "\n",
    "<font size=\"7\">Creating A Predictive Model</font>"
   ]
  },
  {
   "cell_type": "markdown",
   "metadata": {},
   "source": [
    "<font size=\"3\">With the purpose of determining the value of a property, I will create a model to predict its price.</font>"
   ]
  },
  {
   "cell_type": "code",
   "execution_count": 63,
   "metadata": {},
   "outputs": [
    {
     "data": {
      "text/plain": [
       "['sqft_living',\n",
       " 'sqft_lot',\n",
       " 'yrs_old',\n",
       " '4-7_bedrooms',\n",
       " '4+_bathrooms',\n",
       " 'waterfront_1',\n",
       " 'grade']"
      ]
     },
     "execution_count": 63,
     "metadata": {},
     "output_type": "execute_result"
    }
   ],
   "source": [
    "# getting the used column names for the df\n",
    "used_cols = ['sqft_living', 'sqft_lot', 'yrs_old', '4-7_bedrooms', '4+_bathrooms', 'waterfront_1', 'grade']\n",
    "used_cols"
   ]
  },
  {
   "cell_type": "code",
   "execution_count": 75,
   "metadata": {},
   "outputs": [
    {
     "name": "stderr",
     "output_type": "stream",
     "text": [
      "C:\\Users\\warre\\AppData\\Local\\Temp\\ipykernel_18560\\1105329398.py:2: FutureWarning: The frame.append method is deprecated and will be removed from pandas in a future version. Use pandas.concat instead.\n",
      "  new_row = new_row.append({'sqft_living': 1300,\n"
     ]
    },
    {
     "data": {
      "text/html": [
       "<div>\n",
       "<style scoped>\n",
       "    .dataframe tbody tr th:only-of-type {\n",
       "        vertical-align: middle;\n",
       "    }\n",
       "\n",
       "    .dataframe tbody tr th {\n",
       "        vertical-align: top;\n",
       "    }\n",
       "\n",
       "    .dataframe thead th {\n",
       "        text-align: right;\n",
       "    }\n",
       "</style>\n",
       "<table border=\"1\" class=\"dataframe\">\n",
       "  <thead>\n",
       "    <tr style=\"text-align: right;\">\n",
       "      <th></th>\n",
       "      <th>sqft_living</th>\n",
       "      <th>sqft_lot</th>\n",
       "      <th>yrs_old</th>\n",
       "      <th>4-7_bedrooms</th>\n",
       "      <th>4+_bathrooms</th>\n",
       "      <th>waterfront_1</th>\n",
       "      <th>grade</th>\n",
       "    </tr>\n",
       "  </thead>\n",
       "  <tbody>\n",
       "    <tr>\n",
       "      <th>0</th>\n",
       "      <td>1300</td>\n",
       "      <td>2700</td>\n",
       "      <td>15</td>\n",
       "      <td>1</td>\n",
       "      <td>0</td>\n",
       "      <td>0</td>\n",
       "      <td>8</td>\n",
       "    </tr>\n",
       "  </tbody>\n",
       "</table>\n",
       "</div>"
      ],
      "text/plain": [
       "  sqft_living sqft_lot yrs_old 4-7_bedrooms 4+_bathrooms waterfront_1 grade\n",
       "0        1300     2700      15            1            0            0     8"
      ]
     },
     "execution_count": 75,
     "metadata": {},
     "output_type": "execute_result"
    }
   ],
   "source": [
    "#create new data frame with the property values\n",
    "new_row = pd.DataFrame(columns=used_cols)\n",
    "new_row = new_row.append({'sqft_living': 1300,\n",
    "                          'sqft_lot': 2700,\n",
    "                          'yrs_old': 15,\n",
    "                          '4-7_bedrooms': 1,\n",
    "                          '4+_bathrooms': 0,\n",
    "                          'waterfront_1': 0,\n",
    "                          'grade': 8},\n",
    "                          ignore_index=True)\n",
    "new_row"
   ]
  },
  {
   "cell_type": "code",
   "execution_count": 76,
   "metadata": {},
   "outputs": [
    {
     "data": {
      "text/html": [
       "<div>\n",
       "<style scoped>\n",
       "    .dataframe tbody tr th:only-of-type {\n",
       "        vertical-align: middle;\n",
       "    }\n",
       "\n",
       "    .dataframe tbody tr th {\n",
       "        vertical-align: top;\n",
       "    }\n",
       "\n",
       "    .dataframe thead th {\n",
       "        text-align: right;\n",
       "    }\n",
       "</style>\n",
       "<table border=\"1\" class=\"dataframe\">\n",
       "  <thead>\n",
       "    <tr style=\"text-align: right;\">\n",
       "      <th></th>\n",
       "      <th>price</th>\n",
       "      <th>sqft_living</th>\n",
       "      <th>sqft_lot</th>\n",
       "      <th>floors</th>\n",
       "      <th>waterfront</th>\n",
       "      <th>sqft_above</th>\n",
       "      <th>yrs_old</th>\n",
       "      <th>4-7_bedrooms</th>\n",
       "      <th>7+_bedrooms</th>\n",
       "      <th>4+_bathrooms</th>\n",
       "      <th>grade</th>\n",
       "    </tr>\n",
       "  </thead>\n",
       "  <tbody>\n",
       "    <tr>\n",
       "      <th>1</th>\n",
       "      <td>538000.0</td>\n",
       "      <td>2570</td>\n",
       "      <td>7242.0</td>\n",
       "      <td>2</td>\n",
       "      <td>0</td>\n",
       "      <td>2170</td>\n",
       "      <td>65</td>\n",
       "      <td>0</td>\n",
       "      <td>0</td>\n",
       "      <td>0</td>\n",
       "      <td>7</td>\n",
       "    </tr>\n",
       "    <tr>\n",
       "      <th>2</th>\n",
       "      <td>180000.0</td>\n",
       "      <td>770</td>\n",
       "      <td>10000.0</td>\n",
       "      <td>1</td>\n",
       "      <td>0</td>\n",
       "      <td>770</td>\n",
       "      <td>83</td>\n",
       "      <td>0</td>\n",
       "      <td>0</td>\n",
       "      <td>0</td>\n",
       "      <td>6</td>\n",
       "    </tr>\n",
       "    <tr>\n",
       "      <th>3</th>\n",
       "      <td>604000.0</td>\n",
       "      <td>1960</td>\n",
       "      <td>5000.0</td>\n",
       "      <td>1</td>\n",
       "      <td>0</td>\n",
       "      <td>1050</td>\n",
       "      <td>51</td>\n",
       "      <td>1</td>\n",
       "      <td>0</td>\n",
       "      <td>0</td>\n",
       "      <td>7</td>\n",
       "    </tr>\n",
       "    <tr>\n",
       "      <th>4</th>\n",
       "      <td>510000.0</td>\n",
       "      <td>1680</td>\n",
       "      <td>8080.0</td>\n",
       "      <td>1</td>\n",
       "      <td>0</td>\n",
       "      <td>1680</td>\n",
       "      <td>29</td>\n",
       "      <td>0</td>\n",
       "      <td>0</td>\n",
       "      <td>0</td>\n",
       "      <td>8</td>\n",
       "    </tr>\n",
       "    <tr>\n",
       "      <th>5</th>\n",
       "      <td>1230000.0</td>\n",
       "      <td>5420</td>\n",
       "      <td>101930.0</td>\n",
       "      <td>1</td>\n",
       "      <td>0</td>\n",
       "      <td>3890</td>\n",
       "      <td>15</td>\n",
       "      <td>1</td>\n",
       "      <td>0</td>\n",
       "      <td>1</td>\n",
       "      <td>11</td>\n",
       "    </tr>\n",
       "    <tr>\n",
       "      <th>...</th>\n",
       "      <td>...</td>\n",
       "      <td>...</td>\n",
       "      <td>...</td>\n",
       "      <td>...</td>\n",
       "      <td>...</td>\n",
       "      <td>...</td>\n",
       "      <td>...</td>\n",
       "      <td>...</td>\n",
       "      <td>...</td>\n",
       "      <td>...</td>\n",
       "      <td>...</td>\n",
       "    </tr>\n",
       "    <tr>\n",
       "      <th>21591</th>\n",
       "      <td>475000.0</td>\n",
       "      <td>1310</td>\n",
       "      <td>1294.0</td>\n",
       "      <td>2</td>\n",
       "      <td>0</td>\n",
       "      <td>1180</td>\n",
       "      <td>8</td>\n",
       "      <td>0</td>\n",
       "      <td>0</td>\n",
       "      <td>0</td>\n",
       "      <td>8</td>\n",
       "    </tr>\n",
       "    <tr>\n",
       "      <th>21592</th>\n",
       "      <td>360000.0</td>\n",
       "      <td>1530</td>\n",
       "      <td>1131.0</td>\n",
       "      <td>3</td>\n",
       "      <td>0</td>\n",
       "      <td>1530</td>\n",
       "      <td>7</td>\n",
       "      <td>0</td>\n",
       "      <td>0</td>\n",
       "      <td>0</td>\n",
       "      <td>8</td>\n",
       "    </tr>\n",
       "    <tr>\n",
       "      <th>21593</th>\n",
       "      <td>400000.0</td>\n",
       "      <td>2310</td>\n",
       "      <td>5813.0</td>\n",
       "      <td>2</td>\n",
       "      <td>0</td>\n",
       "      <td>2310</td>\n",
       "      <td>2</td>\n",
       "      <td>1</td>\n",
       "      <td>0</td>\n",
       "      <td>0</td>\n",
       "      <td>8</td>\n",
       "    </tr>\n",
       "    <tr>\n",
       "      <th>21594</th>\n",
       "      <td>402101.0</td>\n",
       "      <td>1020</td>\n",
       "      <td>1350.0</td>\n",
       "      <td>2</td>\n",
       "      <td>0</td>\n",
       "      <td>1020</td>\n",
       "      <td>7</td>\n",
       "      <td>0</td>\n",
       "      <td>0</td>\n",
       "      <td>0</td>\n",
       "      <td>7</td>\n",
       "    </tr>\n",
       "    <tr>\n",
       "      <th>21596</th>\n",
       "      <td>325000.0</td>\n",
       "      <td>1020</td>\n",
       "      <td>1076.0</td>\n",
       "      <td>2</td>\n",
       "      <td>0</td>\n",
       "      <td>1020</td>\n",
       "      <td>8</td>\n",
       "      <td>0</td>\n",
       "      <td>0</td>\n",
       "      <td>0</td>\n",
       "      <td>7</td>\n",
       "    </tr>\n",
       "  </tbody>\n",
       "</table>\n",
       "<p>19155 rows × 11 columns</p>\n",
       "</div>"
      ],
      "text/plain": [
       "           price  sqft_living  sqft_lot  floors  waterfront  sqft_above  \\\n",
       "1       538000.0         2570    7242.0       2           0        2170   \n",
       "2       180000.0          770   10000.0       1           0         770   \n",
       "3       604000.0         1960    5000.0       1           0        1050   \n",
       "4       510000.0         1680    8080.0       1           0        1680   \n",
       "5      1230000.0         5420  101930.0       1           0        3890   \n",
       "...          ...          ...       ...     ...         ...         ...   \n",
       "21591   475000.0         1310    1294.0       2           0        1180   \n",
       "21592   360000.0         1530    1131.0       3           0        1530   \n",
       "21593   400000.0         2310    5813.0       2           0        2310   \n",
       "21594   402101.0         1020    1350.0       2           0        1020   \n",
       "21596   325000.0         1020    1076.0       2           0        1020   \n",
       "\n",
       "       yrs_old  4-7_bedrooms  7+_bedrooms  4+_bathrooms  grade  \n",
       "1           65             0            0             0      7  \n",
       "2           83             0            0             0      6  \n",
       "3           51             1            0             0      7  \n",
       "4           29             0            0             0      8  \n",
       "5           15             1            0             1     11  \n",
       "...        ...           ...          ...           ...    ...  \n",
       "21591        8             0            0             0      8  \n",
       "21592        7             0            0             0      8  \n",
       "21593        2             1            0             0      8  \n",
       "21594        7             0            0             0      7  \n",
       "21596        8             0            0             0      7  \n",
       "\n",
       "[19155 rows x 11 columns]"
      ]
     },
     "execution_count": 76,
     "metadata": {},
     "output_type": "execute_result"
    }
   ],
   "source": [
    "#Add grade back into the dataframe\n",
    "data['grade'] = df['grade']"
   ]
  },
  {
   "cell_type": "markdown",
   "metadata": {},
   "source": [
    "<p style=\"margin: 10px 0;\"></p>"
   ]
  },
  {
   "cell_type": "markdown",
   "metadata": {},
   "source": [
    "<font size=\"3\">In order to ensure compatibility with my predictive model, it is necessary to log transform and mean normalize the values of the target property.</font>"
   ]
  },
  {
   "cell_type": "code",
   "execution_count": 67,
   "metadata": {},
   "outputs": [
    {
     "data": {
      "text/html": [
       "<div>\n",
       "<style scoped>\n",
       "    .dataframe tbody tr th:only-of-type {\n",
       "        vertical-align: middle;\n",
       "    }\n",
       "\n",
       "    .dataframe tbody tr th {\n",
       "        vertical-align: top;\n",
       "    }\n",
       "\n",
       "    .dataframe thead th {\n",
       "        text-align: right;\n",
       "    }\n",
       "</style>\n",
       "<table border=\"1\" class=\"dataframe\">\n",
       "  <thead>\n",
       "    <tr style=\"text-align: right;\">\n",
       "      <th></th>\n",
       "      <th>sqft_living_log</th>\n",
       "      <th>sqft_lot_log</th>\n",
       "      <th>yrs_old_log</th>\n",
       "      <th>grade_log</th>\n",
       "    </tr>\n",
       "  </thead>\n",
       "  <tbody>\n",
       "    <tr>\n",
       "      <th>0</th>\n",
       "      <td>-2.252526</td>\n",
       "      <td>-0.424856</td>\n",
       "      <td>-1.43808</td>\n",
       "      <td>-4.751596</td>\n",
       "    </tr>\n",
       "  </tbody>\n",
       "</table>\n",
       "</div>"
      ],
      "text/plain": [
       "   sqft_living_log  sqft_lot_log  yrs_old_log  grade_log\n",
       "0        -2.252526     -0.424856     -1.43808  -4.751596"
      ]
     },
     "execution_count": 67,
     "metadata": {},
     "output_type": "execute_result"
    }
   ],
   "source": [
    "# first we'll tackle the continuous columns\n",
    "continuous = ['sqft_living', 'sqft_lot', 'yrs_old', 'grade']\n",
    "\n",
    "new_row_cont = new_row[continuous]\n",
    "\n",
    "# log features\n",
    "log_names = [f'{column}_log' for column in new_row_cont.columns]\n",
    "\n",
    "new_row_log = np.log(new_row_cont.astype(float)) # won't work unless float\n",
    "new_row_log.columns = log_names\n",
    "\n",
    "# normalizing\n",
    "for col in continuous:\n",
    "    # normalize using mean and std from overall dataset\n",
    "    new_row_log[f'{col}_log'] = (new_row_log[f'{col}_log'] - data[col].mean()) / data[col].std()\n",
    "new_row_log\n"
   ]
  },
  {
   "cell_type": "code",
   "execution_count": 69,
   "metadata": {},
   "outputs": [],
   "source": [
    "continuous = ['sqft_living', 'sqft_lot', 'yrs_old', 'grade']\n",
    "categoricals = ['4-7_bedrooms', '4+_bathrooms', 'waterfront_1']"
   ]
  },
  {
   "cell_type": "markdown",
   "metadata": {},
   "source": [
    "<p style=\"margin: 10px 0;\"></p>"
   ]
  },
  {
   "cell_type": "markdown",
   "metadata": {},
   "source": [
    "<font size=\"3\">Now the data has been transformed, I can join it back together</font>"
   ]
  },
  {
   "cell_type": "code",
   "execution_count": 71,
   "metadata": {},
   "outputs": [
    {
     "data": {
      "text/html": [
       "<div>\n",
       "<style scoped>\n",
       "    .dataframe tbody tr th:only-of-type {\n",
       "        vertical-align: middle;\n",
       "    }\n",
       "\n",
       "    .dataframe tbody tr th {\n",
       "        vertical-align: top;\n",
       "    }\n",
       "\n",
       "    .dataframe thead th {\n",
       "        text-align: right;\n",
       "    }\n",
       "</style>\n",
       "<table border=\"1\" class=\"dataframe\">\n",
       "  <thead>\n",
       "    <tr style=\"text-align: right;\">\n",
       "      <th></th>\n",
       "      <th>sqft_living_log</th>\n",
       "      <th>sqft_lot_log</th>\n",
       "      <th>yrs_old_log</th>\n",
       "      <th>grade_log</th>\n",
       "      <th>4-7_bedrooms</th>\n",
       "      <th>4+_bathrooms</th>\n",
       "      <th>waterfront_1</th>\n",
       "    </tr>\n",
       "  </thead>\n",
       "  <tbody>\n",
       "    <tr>\n",
       "      <th>0</th>\n",
       "      <td>-2.252526</td>\n",
       "      <td>-0.424856</td>\n",
       "      <td>-1.43808</td>\n",
       "      <td>-4.751596</td>\n",
       "      <td>1</td>\n",
       "      <td>0</td>\n",
       "      <td>0</td>\n",
       "    </tr>\n",
       "  </tbody>\n",
       "</table>\n",
       "</div>"
      ],
      "text/plain": [
       "   sqft_living_log  sqft_lot_log  yrs_old_log  grade_log 4-7_bedrooms  \\\n",
       "0        -2.252526     -0.424856     -1.43808  -4.751596            1   \n",
       "\n",
       "  4+_bathrooms waterfront_1  \n",
       "0            0            0  "
      ]
     },
     "execution_count": 71,
     "metadata": {},
     "output_type": "execute_result"
    }
   ],
   "source": [
    "new_row_cat = new_row[categoricals]\n",
    "new_row_processed = pd.concat([new_row_log, new_row_cat], axis=1)\n",
    "new_row_processed"
   ]
  },
  {
   "cell_type": "markdown",
   "metadata": {},
   "source": [
    "<p style=\"margin: 10px 0;\"></p>"
   ]
  },
  {
   "cell_type": "markdown",
   "metadata": {},
   "source": [
    "<font msize=\"3\"><b>Create Predicitive Model</b></font>"
   ]
  },
  {
   "cell_type": "markdown",
   "metadata": {},
   "source": [
    "<font size=\"3\">Finally, we can create our predicitive model </font>"
   ]
  },
  {
   "cell_type": "code",
   "execution_count": 72,
   "metadata": {},
   "outputs": [
    {
     "name": "stderr",
     "output_type": "stream",
     "text": [
      "C:\\Users\\warre\\anaconda3\\lib\\site-packages\\sklearn\\base.py:493: FutureWarning: The feature names should match those that were passed during fit. Starting version 1.2, an error will be raised.\n",
      "Feature names unseen at fit time:\n",
      "- grade_log\n",
      "- sqft_living_log\n",
      "- sqft_lot_log\n",
      "- yrs_old_log\n",
      "Feature names seen at fit time, yet now missing:\n",
      "- grade\n",
      "- sqft_living\n",
      "- sqft_lot\n",
      "- yrs_old\n",
      "\n",
      "  warnings.warn(message, FutureWarning)\n"
     ]
    },
    {
     "data": {
      "text/plain": [
       "array([-0.54822197])"
      ]
     },
     "execution_count": 72,
     "metadata": {},
     "output_type": "execute_result"
    }
   ],
   "source": [
    "new_row_pred_log = linreg.predict(new_row_processed)\n"
   ]
  },
  {
   "cell_type": "markdown",
   "metadata": {},
   "source": [
    "<p style=\"margin: 10px 0;\"></p>"
   ]
  },
  {
   "cell_type": "markdown",
   "metadata": {},
   "source": [
    "<font msize=\"3\"><b>Scale and exponentiate result</b></font>"
   ]
  },
  {
   "cell_type": "markdown",
   "metadata": {},
   "source": [
    "<font size=\"3\">Having generated our prediction, it is necessary to apply scaling and exponentiation in order to obtain the actual value.</font>"
   ]
  },
  {
   "cell_type": "code",
   "execution_count": 73,
   "metadata": {},
   "outputs": [
    {
     "name": "stdout",
     "output_type": "stream",
     "text": [
      "The predicted property price is $752626.00\n"
     ]
    }
   ],
   "source": [
    "# prediction needs to be scaled and exponentiated\n",
    "predicted_price = np.exp(new_row_pred_log) * df[\"price\"].std() + df[\"price\"].mean()\n",
    "\n",
    "predicted_price = int(predicted_price)\n",
    "print(\"The predicted property price is ${:.2f}\".format(predicted_price))"
   ]
  },
  {
   "cell_type": "markdown",
   "metadata": {},
   "source": [
    "<p style=\"margin: 10px 0;\"></p>"
   ]
  },
  {
   "cell_type": "markdown",
   "metadata": {},
   "source": [
    "<font msize=\"3\"><b>The predicted property price is $752,626\n",
    "</b></font>"
   ]
  }
 ],
 "metadata": {
  "kernelspec": {
   "display_name": "Python 3 (ipykernel)",
   "language": "python",
   "name": "python3"
  },
  "language_info": {
   "codemirror_mode": {
    "name": "ipython",
    "version": 3
   },
   "file_extension": ".py",
   "mimetype": "text/x-python",
   "name": "python",
   "nbconvert_exporter": "python",
   "pygments_lexer": "ipython3",
   "version": "3.9.13"
  }
 },
 "nbformat": 4,
 "nbformat_minor": 2
}
